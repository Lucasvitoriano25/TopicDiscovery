{
 "cells": [
  {
   "cell_type": "markdown",
   "metadata": {},
   "source": [
    "## Dataset preparation\n",
    "\n",
    "In this notebook, we will build and pre-process the arXiv paper dataset."
   ]
  },
  {
   "cell_type": "code",
   "execution_count": 1,
   "metadata": {},
   "outputs": [
    {
     "name": "stderr",
     "output_type": "stream",
     "text": [
      "[nltk_data] Downloading package stopwords to\n",
      "[nltk_data]     /home/vitoriano/nltk_data...\n",
      "[nltk_data]   Package stopwords is already up-to-date!\n"
     ]
    }
   ],
   "source": [
    "# imports\n",
    "import sys\n",
    "sys.path.insert(0, \"../\")\n",
    "from dataset import ArXivDataset\n",
    "import nltk\n",
    "nltk.download('stopwords')\n",
    "from PyPDF2 import PdfReader\n",
    "import re"
   ]
  },
  {
   "cell_type": "code",
   "execution_count": 2,
   "metadata": {},
   "outputs": [
    {
     "name": "stdout",
     "output_type": "stream",
     "text": [
      "Starting the concatenation of archives in a dictionary\n",
      " [1/7] Removing LaTex equations...\n",
      " [2/7] Removing newlines and extra spaces...\n",
      " [3/7] Tokenizing documents...\n",
      " [4/7] Removing stopwords...\n",
      " [5/7] Identifying n-gram phrases...\n",
      " [6/7] Lemmatizing...\n",
      " [7/7] Removing Common Words...\n",
      " Done.\n",
      "# Courses: 286\n"
     ]
    }
   ],
   "source": [
    "# build and pre-process texts\n",
    "metadata_filepath = \"../data/ByCourse/\"\n",
    "dataset = ArXivDataset.from_metadata(metadata_filepath)\n",
    "print(\"# Courses: {n}\".format(n=len(dataset)))"
   ]
  },
  {
   "cell_type": "markdown",
   "metadata": {},
   "source": [
    "Now that the texts have been pre-processed, they can be exported as a dataset object."
   ]
  },
  {
   "cell_type": "code",
   "execution_count": 4,
   "metadata": {},
   "outputs": [],
   "source": [
    "# export dataset\n",
    "dataset.save(\"../object/dataset.obj\")"
   ]
  }
 ],
 "metadata": {
  "kernelspec": {
   "display_name": "Python 3",
   "language": "python",
   "name": "python3"
  },
  "language_info": {
   "codemirror_mode": {
    "name": "ipython",
    "version": 3
   },
   "file_extension": ".py",
   "mimetype": "text/x-python",
   "name": "python",
   "nbconvert_exporter": "python",
   "pygments_lexer": "ipython3",
   "version": "3.10.6"
  },
  "vscode": {
   "interpreter": {
    "hash": "916dbcbb3f70747c44a77c7bcd40155683ae19c65e1c03b4aa3499c5328201f1"
   }
  }
 },
 "nbformat": 4,
 "nbformat_minor": 4
}
