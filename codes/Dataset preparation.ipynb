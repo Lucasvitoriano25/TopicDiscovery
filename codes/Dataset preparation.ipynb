{
 "cells": [
  {
   "attachments": {},
   "cell_type": "markdown",
   "metadata": {},
   "source": [
    "## Dataset preparation\n",
    "\n",
    "In this notebook, we will build and pre-process the catalog of courses."
   ]
  },
  {
   "cell_type": "code",
   "execution_count": 1,
   "metadata": {},
   "outputs": [
    {
     "name": "stderr",
     "output_type": "stream",
     "text": [
      "[nltk_data] Downloading package stopwords to\n",
      "[nltk_data]     C:\\Users\\ivalz\\AppData\\Roaming\\nltk_data...\n",
      "[nltk_data]   Package stopwords is already up-to-date!\n"
     ]
    }
   ],
   "source": [
    "# imports\n",
    "import sys\n",
    "sys.path.insert(0, \"../\")\n",
    "from dataset import ArXivDataset\n",
    "import nltk\n",
    "nltk.download('stopwords')\n",
    "from PyPDF2 import PdfReader\n",
    "import re"
   ]
  },
  {
   "cell_type": "code",
   "execution_count": 2,
   "metadata": {},
   "outputs": [
    {
     "name": "stdout",
     "output_type": "stream",
     "text": [
      "Starting the concatenation of archives in a dictionary\n",
      " [1/9] Removing headings...\n",
      " [2/9] Removing gradings, resources and course support...\n",
      " [3/9] Removing LaTex equations...\n",
      " [4/9] Removing newlines and extra spaces...\n",
      " [5/9] Tokenizing documents...\n",
      " [6/9] Removing stopwords...\n",
      " [7/9] Identifying n-gram phrases...\n",
      " [8/9] Lemmatizing...\n",
      " [9/9] Removing common words...\n",
      " Done.\n",
      "# Courses: 324\n"
     ]
    }
   ],
   "source": [
    "# build and pre-process texts\n",
    "metadata_filepath = \"../data/ByCourse/\"\n",
    "dataset = ArXivDataset.from_metadata(metadata_filepath)\n",
    "print(\"# Courses: {n}\".format(n=len(dataset)))"
   ]
  },
  {
   "cell_type": "markdown",
   "metadata": {},
   "source": [
    "Now that the texts have been pre-processed, they can be exported as a dataset object."
   ]
  },
  {
   "cell_type": "code",
   "execution_count": 3,
   "metadata": {},
   "outputs": [],
   "source": [
    "# export dataset\n",
    "dataset.save(\"../object/dataset.obj\")"
   ]
  }
 ],
 "metadata": {
  "kernelspec": {
   "display_name": "Python 3",
   "language": "python",
   "name": "python3"
  },
  "language_info": {
   "codemirror_mode": {
    "name": "ipython",
    "version": 3
   },
   "file_extension": ".py",
   "mimetype": "text/x-python",
   "name": "python",
   "nbconvert_exporter": "python",
   "pygments_lexer": "ipython3",
   "version": "3.10.6"
  },
  "vscode": {
   "interpreter": {
    "hash": "916dbcbb3f70747c44a77c7bcd40155683ae19c65e1c03b4aa3499c5328201f1"
   }
  }
 },
 "nbformat": 4,
 "nbformat_minor": 4
}
