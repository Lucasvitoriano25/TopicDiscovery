{
  "cells": [
    {
      "cell_type": "code",
      "execution_count": 2,
      "metadata": {
        "colab": {
          "base_uri": "https://localhost:8080/"
        },
        "id": "LQ2fguExAcM7",
        "outputId": "09b7a2fe-f7d3-435c-89ee-ded0ea8f675e"
      },
      "outputs": [
        {
          "ename": "IndentationError",
          "evalue": "expected an indented block after 'with' statement on line 46 (2933372050.py, line 47)",
          "output_type": "error",
          "traceback": [
            "\u001b[0;36m  Cell \u001b[0;32mIn [2], line 47\u001b[0;36m\u001b[0m\n\u001b[0;31m    pdf_writer.write(output_file)\u001b[0m\n\u001b[0m    ^\u001b[0m\n\u001b[0;31mIndentationError\u001b[0m\u001b[0;31m:\u001b[0m expected an indented block after 'with' statement on line 46\n"
          ]
        }
      ],
      "source": [
        "import re\n",
        "import os\n",
        "import PyPDF2\n",
        "\n",
        "# Define the PDF file to split\n",
        "# The first page of the PDF must be the first course\n",
        "\n",
        "pdf_files = [\"../data/raw/fileCAT1A2023.pdf\",\"../data/raw/fileCAT1A2023.pdf\"]\n",
        "\n",
        "# Define the regex patterns to search for in the PDF file\n",
        "patterns = [r'LC\\d{4}', r'\\d[A-Z][A-Z]\\d{4}', r'ST[57]\\s–\\s\\d{2}']\n",
        "\n",
        "# Open the PDF file and read its contents\n",
        "for pdf_file in pdf_files:\n",
        "    pdf_reader = PyPDF2.PdfReader(open(pdf_file, \"rb\"))\n",
        "\n",
        "    StartCoursesPage = 0\n",
        "\n",
        "    # Loop through each page in the PDF file\n",
        "\n",
        "\n",
        "    for page_num in range(len(pdf_reader.pages)):\n",
        "\n",
        "        # Get the text content of the current page\n",
        "        page = pdf_reader.pages[page_num]\n",
        "        text = page.extract_text()\n",
        "        # Check if the current page contains any of the patterns\n",
        "        if any(re.search(pattern, text) for pattern in patterns):\n",
        "\n",
        "            # Create a new PDF file name based on the pattern found\n",
        "            match = next(re.findall(pattern,text) for pattern in patterns if re.search(pattern, text))\n",
        "            file_name = f\"../data/ByCourse/{match[0]}.pdf\"\n",
        "\n",
        "            # Create a new PDF writer object and add the current page to it\n",
        "            pdf_writer = PyPDF2.PdfWriter()\n",
        "            pdf_writer.add_page(page)\n",
        "\n",
        "        # If the current page does not match any of the patterns, add it to the previous PDF file\n",
        "        else:\n",
        "            try:\n",
        "                pdf_writer.add_page(page)\n",
        "            except NameError:\n",
        "                pass  # First page of first file\n",
        "\n",
        "        # Write the new PDF file to disk\n",
        "        with open(file_name, \"wb\") as output_file:\n",
        "            pdf_writer.write(output_file)\n",
        "\n",
        "\n",
        "    # Clean up\n",
        "    try:\n",
        "        pdf_writer.write(open(file_name, \"wb\"))\n",
        "        print(f\"PDF files split successfully. Check the following files: {', '.join(os.listdir())}\")\n",
        "    except NameError:\n",
        "        pass  # No matching pattern found, do nothing\n"
      ]
    },
    {
      "cell_type": "markdown",
      "metadata": {
        "id": "wL6AxU0yFEk3"
      },
      "source": [
        "Perform PDFs to plain text and perform tokenization"
      ]
    }
  ],
  "metadata": {
    "colab": {
      "provenance": []
    },
    "kernelspec": {
      "display_name": "Python 3",
      "name": "python3"
    },
    "language_info": {
      "codemirror_mode": {
        "name": "ipython",
        "version": 3
      },
      "file_extension": ".py",
      "mimetype": "text/x-python",
      "name": "python",
      "nbconvert_exporter": "python",
      "pygments_lexer": "ipython3",
      "version": "3.10.6"
    }
  },
  "nbformat": 4,
  "nbformat_minor": 0
}
