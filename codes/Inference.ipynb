{
 "cells": [
  {
   "cell_type": "markdown",
   "metadata": {},
   "source": [
    "## Model inference\n",
    "\n",
    "In this notebook, we will load a previously trained model, explore the learned topics, and predict topics for a paper on arXiv."
   ]
  },
  {
   "cell_type": "code",
   "execution_count": 1,
   "metadata": {},
   "outputs": [],
   "source": [
    "# imports\n",
    "import sys\n",
    "sys.path.insert(0, \"../\")\n",
    "from utils import scrape_arxiv_abstract\n",
    "from model import TopicModel\n",
    "from dataset import ArXivDataset\n",
    "from gensim.models import LdaModel\n",
    "from pprint import pprint\n",
    "import PyPDF2\n",
    "import plotly.express as px\n",
    "import pandas as pd"
   ]
  },
  {
   "cell_type": "markdown",
   "metadata": {},
   "source": [
    "### Build topic model\n",
    "\n",
    "To build a `TopicModel` object, we need to pass in as arguments the dataset used to create the model (to process new instances) and the model itself (to predict topics for the new instances)."
   ]
  },
  {
   "cell_type": "code",
   "execution_count": 4,
   "metadata": {},
   "outputs": [],
   "source": [
    "# create topic model\n",
    "model_path = \"../models/lda_n71_p10_r929_c38.2\"\n",
    "dataset_path = \"../object/dataset.obj\"\n",
    "model = TopicModel(model_path, dataset_path)"
   ]
  },
  {
   "cell_type": "markdown",
   "metadata": {},
   "source": [
    "### Investigate topics\n",
    "\n",
    "Next, let us explore the different topics learned by the model so that we can assign understandable topic names to each cluster."
   ]
  },
  {
   "cell_type": "code",
   "execution_count": 5,
   "metadata": {},
   "outputs": [
    {
     "name": "stdout",
     "output_type": "stream",
     "text": [
      "[(0,\n",
      "  [('arcelormittal', 0.033330865),\n",
      "   ('steel', 0.03019459),\n",
      "   ('group', 0.030015005),\n",
      "   ('part', 0.014616405),\n",
      "   ('center', 0.013107839),\n",
      "   ('production', 0.012977052),\n",
      "   ('manufacturing', 0.0122522125),\n",
      "   ('site', 0.012006503),\n",
      "   ('industry', 0.010450107),\n",
      "   ('predictive_maintenance', 0.010032005)]),\n",
      " (1,\n",
      "  [('student', 0.02737938),\n",
      "   ('problem', 0.014803234),\n",
      "   ('work', 0.013050551),\n",
      "   ('health', 0.01201993),\n",
      "   ('campus', 0.011776042),\n",
      "   ('team', 0.0112025),\n",
      "   ('day', 0.010901919),\n",
      "   ('business', 0.008437887),\n",
      "   ('workshop', 0.006975648),\n",
      "   ('lecture', 0.006560639)]),\n",
      " (2,\n",
      "  [('system', 0.0007954321),\n",
      "   ('student', 0.0006826058),\n",
      "   ('problem', 0.00050364),\n",
      "   ('project', 0.00042514125),\n",
      "   ('industrial', 0.00040677504),\n",
      "   ('campus', 0.00037737263),\n",
      "   ('optimization', 0.0003535675),\n",
      "   ('lecture', 0.0003527776),\n",
      "   ('description', 0.00033888777),\n",
      "   ('group', 0.0003321681)]),\n",
      " (3,\n",
      "  [('campus', 0.036214843),\n",
      "   ('student', 0.033653896),\n",
      "   ('language', 0.03134256),\n",
      "   ('skill', 0.030814432),\n",
      "   ('group', 0.01878186),\n",
      "   ('level', 0.01793123),\n",
      "   ('end', 0.017245261),\n",
      "   ('test', 0.014643771),\n",
      "   ('culture', 0.013234952),\n",
      "   ('semester', 0.012792678)]),\n",
      " (4,\n",
      "  [('digital', 0.021168891),\n",
      "   ('design', 0.020089539),\n",
      "   ('electronic', 0.017137945),\n",
      "   ('system', 0.015273223),\n",
      "   ('student', 0.012999529),\n",
      "   ('processing', 0.012522111),\n",
      "   ('software', 0.012019053),\n",
      "   ('class', 0.011398288),\n",
      "   ('problem', 0.011262951),\n",
      "   ('analog', 0.009886897)]),\n",
      " (5,\n",
      "  [('design', 0.00074027997),\n",
      "   ('energy', 0.0006295916),\n",
      "   ('system', 0.00053420383),\n",
      "   ('economic', 0.00052983465),\n",
      "   ('student', 0.0005130914),\n",
      "   ('campus', 0.00046986795),\n",
      "   ('engineering', 0.00043529374),\n",
      "   ('model', 0.00040867407),\n",
      "   ('development', 0.00038810153),\n",
      "   ('process', 0.0003724893)]),\n",
      " (6,\n",
      "  [('model', 0.024546623),\n",
      "   ('tutorial', 0.012497954),\n",
      "   ('robot', 0.01228728),\n",
      "   ('system', 0.00953614),\n",
      "   ('session', 0.009465058),\n",
      "   ('final', 0.009224544),\n",
      "   ('grade', 0.009194741),\n",
      "   ('campus', 0.008739477),\n",
      "   ('solution', 0.008184651),\n",
      "   ('problem', 0.007984346)]),\n",
      " (7,\n",
      "  [('energy', 0.023943849),\n",
      "   ('climate', 0.013741565),\n",
      "   ('modelica', 0.012371392),\n",
      "   ('component', 0.0103351325),\n",
      "   ('problem', 0.009905409),\n",
      "   ('system', 0.009889096),\n",
      "   ('production', 0.009384503),\n",
      "   ('water', 0.008553175),\n",
      "   ('electrical', 0.008467711),\n",
      "   ('consumption', 0.00840014)]),\n",
      " (8,\n",
      "  [('numerical', 0.025918735),\n",
      "   ('student', 0.022894936),\n",
      "   ('model', 0.01630707),\n",
      "   ('fluid_mechanic', 0.01624022),\n",
      "   ('simulation', 0.013054925),\n",
      "   ('experimental', 0.013018456),\n",
      "   ('solid_mechanic', 0.012985132),\n",
      "   ('experiment', 0.009758644),\n",
      "   ('flow', 0.009753666),\n",
      "   ('matlab', 0.009742966)]),\n",
      " (9,\n",
      "  [('coupling', 0.056972254),\n",
      "   ('multiphysic', 0.018510895),\n",
      "   ('comsol', 0.015734911),\n",
      "   ('mechanical', 0.013444382),\n",
      "   ('multiphysical', 0.013227959),\n",
      "   ('different', 0.008937606),\n",
      "   ('powder', 0.008859614),\n",
      "   ('broad_sense', 0.008777061),\n",
      "   ('mechanic', 0.008114015),\n",
      "   ('modeling', 0.007692483)]),\n",
      " (10,\n",
      "  [('image', 0.055399682),\n",
      "   ('student', 0.014370455),\n",
      "   ('processing', 0.011888161),\n",
      "   ('session', 0.010270786),\n",
      "   ('section', 0.009994258),\n",
      "   ('analysis', 0.009540808),\n",
      "   ('campus', 0.00827769),\n",
      "   ('project', 0.008035139),\n",
      "   ('system', 0.0065072854),\n",
      "   ('model', 0.0063103326)]),\n",
      " (11,\n",
      "  [('model', 0.01211654),\n",
      "   ('quantum', 0.011971617),\n",
      "   ('tutorial', 0.011877723),\n",
      "   ('system', 0.011700647),\n",
      "   ('student', 0.01164814),\n",
      "   ('physics', 0.010813688),\n",
      "   ('energy', 0.0104304645),\n",
      "   ('problem', 0.010037358),\n",
      "   ('exoskeleton', 0.009894474),\n",
      "   ('electromagnetic', 0.00916469)]),\n",
      " (12,\n",
      "  [('cell', 0.018857516),\n",
      "   ('energy', 0.015777664),\n",
      "   ('life', 0.0148190195),\n",
      "   ('project', 0.012609571),\n",
      "   ('deep', 0.011831562),\n",
      "   ('production', 0.00871369),\n",
      "   ('different', 0.008530036),\n",
      "   ('bioprocess', 0.008397358),\n",
      "   ('system', 0.007840578),\n",
      "   ('bone', 0.0077865617)]),\n",
      " (13,\n",
      "  [('design', 0.024283389),\n",
      "   ('student', 0.018430553),\n",
      "   ('engineering', 0.015766721),\n",
      "   ('group', 0.013862253),\n",
      "   ('process', 0.013431138),\n",
      "   ('chemical', 0.010714279),\n",
      "   ('production', 0.009742248),\n",
      "   ('session', 0.00813966),\n",
      "   ('product', 0.0066658347),\n",
      "   ('biotechnology', 0.006576347)]),\n",
      " (14,\n",
      "  [('control', 0.016368132),\n",
      "   ('production', 0.015320861),\n",
      "   ('unit', 0.014963377),\n",
      "   ('energy', 0.013279489),\n",
      "   ('system', 0.01324966),\n",
      "   ('project', 0.012334297),\n",
      "   ('mem', 0.01010554),\n",
      "   ('application', 0.0099214865),\n",
      "   ('accelerometer', 0.007868704),\n",
      "   ('model', 0.007828307)]),\n",
      " (15,\n",
      "  [('student', 0.02370931),\n",
      "   ('session', 0.023406794),\n",
      "   ('thermal', 0.020732755),\n",
      "   ('energy', 0.020045672),\n",
      "   ('year', 0.016441243),\n",
      "   ('transfer', 0.012777959),\n",
      "   ('teaching_assistant', 0.012057736),\n",
      "   ('pbs', 0.010874),\n",
      "   ('physics', 0.009922648),\n",
      "   ('first', 0.009884831)]),\n",
      " (16,\n",
      "  [('signal', 0.053154804),\n",
      "   ('compression', 0.034723356),\n",
      "   ('image', 0.026647475),\n",
      "   ('analysis', 0.020600593),\n",
      "   ('wavelet', 0.018997153),\n",
      "   ('audio', 0.017335493),\n",
      "   ('representation', 0.016197668),\n",
      "   ('basis', 0.014957599),\n",
      "   ('datum', 0.012376379),\n",
      "   ('orthogonal', 0.010852219)]),\n",
      " (17,\n",
      "  [('project', 0.03634165),\n",
      "   ('scientific', 0.036075383),\n",
      "   ('mediation', 0.024141824),\n",
      "   ('expert', 0.018572096),\n",
      "   ('supervisor', 0.017946936),\n",
      "   ('research', 0.01456899),\n",
      "   ('medium', 0.014565591),\n",
      "   ('researcher', 0.012903584),\n",
      "   ('work', 0.010520266),\n",
      "   ('public', 0.0101959165)]),\n",
      " (18,\n",
      "  [('project', 0.053706586),\n",
      "   ('cost', 0.016398288),\n",
      "   ('partner', 0.015823314),\n",
      "   ('optimization', 0.013126897),\n",
      "   ('part', 0.013117948),\n",
      "   ('management', 0.012949601),\n",
      "   ('risk', 0.012137298),\n",
      "   ('asset', 0.012038616),\n",
      "   ('topic', 0.011909094),\n",
      "   ('task', 0.011771663)]),\n",
      " (19,\n",
      "  [('model', 0.028781116),\n",
      "   ('modeling', 0.012562245),\n",
      "   ('datum', 0.012439925),\n",
      "   ('student', 0.011657691),\n",
      "   ('system', 0.011247695),\n",
      "   ('time', 0.010278983),\n",
      "   ('problem', 0.009582486),\n",
      "   ('discrete', 0.009017937),\n",
      "   ('campus', 0.0089239795),\n",
      "   ('continuous', 0.0088801645)]),\n",
      " (20,\n",
      "  [('circuit', 0.026789071),\n",
      "   ('pc', 0.020080011),\n",
      "   ('communication', 0.018399881),\n",
      "   ('electronic', 0.016775632),\n",
      "   ('student', 0.016510868),\n",
      "   ('design', 0.015545423),\n",
      "   ('practical', 0.015435415),\n",
      "   ('transistor', 0.0134187685),\n",
      "   ('cm', 0.01173242),\n",
      "   ('case', 0.0111713605)]),\n",
      " (21,\n",
      "  [('energy', 0.026090382),\n",
      "   ('microgrid', 0.019340038),\n",
      "   ('mobility', 0.012637238),\n",
      "   ('economic', 0.011325283),\n",
      "   ('electricity', 0.0097199995),\n",
      "   ('project', 0.009314955),\n",
      "   ('problem', 0.009286631),\n",
      "   ('electric', 0.008802654),\n",
      "   ('analysis', 0.008322605),\n",
      "   ('optimization', 0.00815316)]),\n",
      " (22,\n",
      "  [('problem', 0.012929301),\n",
      "   ('session', 0.011848957),\n",
      "   ('student', 0.011807605),\n",
      "   ('estimation', 0.008401611),\n",
      "   ('campus', 0.0078104734),\n",
      "   ('description', 0.007532503),\n",
      "   ('computer', 0.007370419),\n",
      "   ('notion', 0.0072011994),\n",
      "   ('workshop', 0.007025701),\n",
      "   ('project', 0.0069924006)]),\n",
      " (23,\n",
      "  [('campus', 0.00026104486),\n",
      "   ('application', 0.00023473981),\n",
      "   ('student', 0.00022503202),\n",
      "   ('system', 0.00021755917),\n",
      "   ('deep', 0.00019842878),\n",
      "   ('exoskeleton', 0.00018414432),\n",
      "   ('solution', 0.00017787091),\n",
      "   ('parameter', 0.00017511945),\n",
      "   ('description', 0.00017417988),\n",
      "   ('skill', 0.00017006036)]),\n",
      " (24,\n",
      "  [('datum', 0.028057972),\n",
      "   ('information', 0.019784687),\n",
      "   ('model', 0.01616017),\n",
      "   ('student', 0.014607509),\n",
      "   ('network', 0.010898801),\n",
      "   ('campus', 0.010053129),\n",
      "   ('team', 0.00811154),\n",
      "   ('project', 0.007917987),\n",
      "   ('software', 0.0077202017),\n",
      "   ('processing', 0.0076680062)]),\n",
      " (25,\n",
      "  [('search', 0.04024465),\n",
      "   ('information_retrieval', 0.03965119),\n",
      "   ('web', 0.038205277),\n",
      "   ('information', 0.021276781),\n",
      "   ('ir', 0.018213963),\n",
      "   ('system', 0.017963557),\n",
      "   ('recommendation', 0.016469963),\n",
      "   ('model', 0.015823027),\n",
      "   ('engine', 0.013598932),\n",
      "   ('datum', 0.010668536)]),\n",
      " (26,\n",
      "  [('system', 0.019988887),\n",
      "   ('student', 0.010518825),\n",
      "   ('control', 0.010057368),\n",
      "   ('problem', 0.008704638),\n",
      "   ('campus', 0.008558405),\n",
      "   ('datum', 0.007943465),\n",
      "   ('model', 0.007885676),\n",
      "   ('design', 0.0070574656),\n",
      "   ('method', 0.006523765),\n",
      "   ('optimization', 0.006506903)]),\n",
      " (27,\n",
      "  [('combustion', 0.030147798),\n",
      "   ('reactive', 0.02638822),\n",
      "   ('plasma', 0.026340185),\n",
      "   ('chemical', 0.02261614),\n",
      "   ('system', 0.019144464),\n",
      "   ('energy', 0.018957164),\n",
      "   ('work', 0.017118009),\n",
      "   ('equilibrium', 0.01355625),\n",
      "   ('class', 0.013488602),\n",
      "   ('numerical', 0.013224298)]),\n",
      " (28,\n",
      "  [('campus', 0.013997621),\n",
      "   ('model', 0.013848235),\n",
      "   ('innovation', 0.011696785),\n",
      "   ('system', 0.010410964),\n",
      "   ('description', 0.010326378),\n",
      "   ('different', 0.00959206),\n",
      "   ('student', 0.00878015),\n",
      "   ('optical', 0.008456701),\n",
      "   ('design', 0.00786916),\n",
      "   ('group', 0.00761133)]),\n",
      " (29,\n",
      "  [('numerical', 0.07204106),\n",
      "   ('track', 0.043885015),\n",
      "   ('analysis', 0.043668374),\n",
      "   ('wave', 0.03168572),\n",
      "   ('method', 0.031189935),\n",
      "   ('theoretical', 0.026457524),\n",
      "   ('control', 0.02564872),\n",
      "   ('mathematical', 0.017441353),\n",
      "   ('acoustic_electromagnetic', 0.016734822),\n",
      "   ('problem', 0.016319362)]),\n",
      " (30,\n",
      "  [('model', 0.00069051556),\n",
      "   ('system', 0.00056721),\n",
      "   ('problem', 0.00052163284),\n",
      "   ('datum', 0.00042849913),\n",
      "   ('campus', 0.0004133313),\n",
      "   ('tutorial', 0.00040112174),\n",
      "   ('student', 0.00038446827),\n",
      "   ('final', 0.0003570367),\n",
      "   ('project', 0.0003306646),\n",
      "   ('different', 0.00031919184)]),\n",
      " (31,\n",
      "  [('project', 0.024552668),\n",
      "   ('problem', 0.011162874),\n",
      "   ('student', 0.011011027),\n",
      "   ('report', 0.010986249),\n",
      "   ('final', 0.010421556),\n",
      "   ('design', 0.009981422),\n",
      "   ('datum', 0.009971238),\n",
      "   ('defense', 0.009445509),\n",
      "   ('part', 0.009049846),\n",
      "   ('st', 0.008919618)]),\n",
      " (32,\n",
      "  [('industrial', 0.020358652),\n",
      "   ('circular_economy', 0.0188659),\n",
      "   ('material', 0.016736884),\n",
      "   ('ecology', 0.01570598),\n",
      "   ('session', 0.014309993),\n",
      "   ('professional', 0.013763415),\n",
      "   ('environmental', 0.013748861),\n",
      "   ('action', 0.013153794),\n",
      "   ('ethical', 0.012397037),\n",
      "   ('impact', 0.011631736)]),\n",
      " (33,\n",
      "  [('application', 0.030878054),\n",
      "   ('development', 0.025352761),\n",
      "   ('service', 0.01606619),\n",
      "   ('student', 0.015314459),\n",
      "   ('web', 0.013996375),\n",
      "   ('android', 0.012915564),\n",
      "   ('campus', 0.012822375),\n",
      "   ('java', 0.011091015),\n",
      "   ('introduction', 0.0098154),\n",
      "   ('description', 0.009574887)]),\n",
      " (34,\n",
      "  [('project', 0.08093268),\n",
      "   ('student', 0.02204599),\n",
      "   ('team', 0.019380882),\n",
      "   ('campus', 0.017270666),\n",
      "   ('work', 0.015814189),\n",
      "   ('cluster', 0.014246811),\n",
      "   ('group', 0.011162538),\n",
      "   ('skill', 0.010117438),\n",
      "   ('description', 0.009119946),\n",
      "   ('practice', 0.009027673)]),\n",
      " (35,\n",
      "  [('process', 0.025149215),\n",
      "   ('design', 0.014669478),\n",
      "   ('session', 0.0140502285),\n",
      "   ('system', 0.0135274),\n",
      "   ('industrial', 0.013313071),\n",
      "   ('treatment', 0.012783822),\n",
      "   ('control', 0.011423838),\n",
      "   ('production', 0.010319974),\n",
      "   ('student', 0.008761172),\n",
      "   ('sludge', 0.008594098)]),\n",
      " (36,\n",
      "  [('game', 0.037440322),\n",
      "   ('decision', 0.017357783),\n",
      "   ('strategic', 0.014764426),\n",
      "   ('programming', 0.014581818),\n",
      "   ('strategy', 0.014483099),\n",
      "   ('software', 0.014304335),\n",
      "   ('games', 0.011672596),\n",
      "   ('game_theory', 0.010383847),\n",
      "   ('development', 0.010303134),\n",
      "   ('user', 0.009951997)]),\n",
      " (37,\n",
      "  [('network', 0.02262059),\n",
      "   ('model', 0.021814357),\n",
      "   ('problem', 0.014693246),\n",
      "   ('solution', 0.014273955),\n",
      "   ('system', 0.012722253),\n",
      "   ('communication', 0.01170021),\n",
      "   ('industrial', 0.011628383),\n",
      "   ('project', 0.009561693),\n",
      "   ('management', 0.009311315),\n",
      "   ('student', 0.009201767)]),\n",
      " (38,\n",
      "  [('material', 0.022933325),\n",
      "   ('session', 0.016388642),\n",
      "   ('study', 0.0146613),\n",
      "   ('student', 0.014368429),\n",
      "   ('model', 0.01317755),\n",
      "   ('problem', 0.011335673),\n",
      "   ('work', 0.009164505),\n",
      "   ('experimental', 0.008045424),\n",
      "   ('case', 0.007891601),\n",
      "   ('tutorial', 0.0076378384)]),\n",
      " (39,\n",
      "  [('model', 0.0002897155),\n",
      "   ('system', 0.00028844),\n",
      "   ('student', 0.00028380626),\n",
      "   ('project', 0.0002661778),\n",
      "   ('application', 0.00024601415),\n",
      "   ('team', 0.00022620571),\n",
      "   ('analysis', 0.00022526228),\n",
      "   ('campus', 0.00022077319),\n",
      "   ('session', 0.00021150011),\n",
      "   ('image', 0.00021082367)]),\n",
      " (40,\n",
      "  [('failure', 0.05201617),\n",
      "   ('chapter', 0.04985202),\n",
      "   ('decision', 0.04264162),\n",
      "   ('risk', 0.0333004),\n",
      "   ('reliability', 0.023844298),\n",
      "   ('availability', 0.022890624),\n",
      "   ('uncertainty', 0.022624908),\n",
      "   ('diagnosis', 0.019962879),\n",
      "   ('prognosis', 0.019787535),\n",
      "   ('prognostic', 0.013687619)]),\n",
      " (41,\n",
      "  [('communication', 0.014686221),\n",
      "   ('information', 0.012853528),\n",
      "   ('channel', 0.012173621),\n",
      "   ('system', 0.010755139),\n",
      "   ('campus', 0.009701869),\n",
      "   ('digital', 0.008928365),\n",
      "   ('tutorial', 0.008889428),\n",
      "   ('application', 0.008603574),\n",
      "   ('fundamental', 0.008176613),\n",
      "   ('analysis', 0.007910703)]),\n",
      " (42,\n",
      "  [('datum', 0.018588193),\n",
      "   ('big_data', 0.013973625),\n",
      "   ('public', 0.011199094),\n",
      "   ('fr', 0.009594425),\n",
      "   ('lab', 0.009555499),\n",
      "   ('environment', 0.009107245),\n",
      "   ('architecture', 0.008020851),\n",
      "   ('nosql', 0.007808703),\n",
      "   ('algorithm', 0.00774822),\n",
      "   ('performance', 0.0075765913)]),\n",
      " (43,\n",
      "  [('business', 0.0145209795),\n",
      "   ('student', 0.013402556),\n",
      "   ('session', 0.011218076),\n",
      "   ('digital', 0.010449831),\n",
      "   ('model', 0.00999604),\n",
      "   ('hour', 0.008719345),\n",
      "   ('company', 0.008647864),\n",
      "   ('management', 0.008484404),\n",
      "   ('campus', 0.007859492),\n",
      "   ('case', 0.0078123924)]),\n",
      " (44,\n",
      "  [('optimization', 0.031038744),\n",
      "   ('project', 0.013479951),\n",
      "   ('student', 0.013353518),\n",
      "   ('method', 0.01274722),\n",
      "   ('problem', 0.012117236),\n",
      "   ('datum', 0.0100263525),\n",
      "   ('campus', 0.009035518),\n",
      "   ('consumption', 0.008725549),\n",
      "   ('energy', 0.008163897),\n",
      "   ('system', 0.0077985004)]),\n",
      " (45,\n",
      "  [('model', 0.023325527),\n",
      "   ('programming', 0.010795946),\n",
      "   ('student', 0.010135183),\n",
      "   ('problem', 0.008787203),\n",
      "   ('biofilm', 0.008300194),\n",
      "   ('different', 0.007839836),\n",
      "   ('biomaterial', 0.007448039),\n",
      "   ('scientific', 0.0070292554),\n",
      "   ('campus', 0.0069951788),\n",
      "   ('scale', 0.006983903)]),\n",
      " (46,\n",
      "  [('relevant', 0.018746452),\n",
      "   ('particle_physic', 0.017713446),\n",
      "   ('final', 0.015741527),\n",
      "   ('examination', 0.015425197),\n",
      "   ('equation', 0.014907133),\n",
      "   ('linkage', 0.013775813),\n",
      "   ('principle', 0.012308503),\n",
      "   ('grade', 0.01186846),\n",
      "   ('gravitation', 0.011103352),\n",
      "   ('force', 0.010944137)]),\n",
      " (47,\n",
      "  [('system', 0.0005414822),\n",
      "   ('datum', 0.00047926858),\n",
      "   ('control', 0.00024232788),\n",
      "   ('campus', 0.00023706937),\n",
      "   ('development', 0.00023579049),\n",
      "   ('student', 0.00023363705),\n",
      "   ('model', 0.00023178518),\n",
      "   ('software', 0.0002258974),\n",
      "   ('design', 0.00021979774),\n",
      "   ('problem', 0.00020538099)]),\n",
      " (48,\n",
      "  [('language', 0.038051482),\n",
      "   ('linux', 0.015280299),\n",
      "   ('programming', 0.013352176),\n",
      "   ('spanish', 0.013107145),\n",
      "   ('system', 0.012265659),\n",
      "   ('campus', 0.011702256),\n",
      "   ('performance', 0.010544328),\n",
      "   ('rust', 0.010510289),\n",
      "   ('program', 0.010486411),\n",
      "   ('design', 0.009822073)]),\n",
      " (49,\n",
      "  [('system', 0.02278551),\n",
      "   ('control', 0.013320965),\n",
      "   ('design', 0.010170583),\n",
      "   ('campus', 0.007675921),\n",
      "   ('flight', 0.0068366076),\n",
      "   ('part', 0.006733652),\n",
      "   ('movement', 0.006681934),\n",
      "   ('description', 0.0066200104),\n",
      "   ('robot', 0.006619004),\n",
      "   ('game', 0.0065604737)]),\n",
      " (50,\n",
      "  [('brain', 0.030017348),\n",
      "   ('model', 0.028621553),\n",
      "   ('chapter', 0.023407808),\n",
      "   ('activity', 0.0169685),\n",
      "   ('neuron', 0.015077699),\n",
      "   ('neuroscience', 0.013400731),\n",
      "   ('neuronal', 0.0133964205),\n",
      "   ('population', 0.010061213),\n",
      "   ('lab', 0.010041694),\n",
      "   ('session', 0.010030331)]),\n",
      " (51,\n",
      "  [('bayesian', 0.04154561),\n",
      "   ('inference', 0.032076765),\n",
      "   ('model', 0.029928003),\n",
      "   ('topic', 0.025770053),\n",
      "   ('session', 0.013959671),\n",
      "   ('algorithm', 0.013212949),\n",
      "   ('method', 0.012584436),\n",
      "   ('learning', 0.01182573),\n",
      "   ('datum', 0.010822358),\n",
      "   ('technique', 0.009999761)]),\n",
      " (52,\n",
      "  [('system', 0.019989662),\n",
      "   ('design', 0.015470562),\n",
      "   ('control', 0.015339282),\n",
      "   ('constraint', 0.011360247),\n",
      "   ('development', 0.01076964),\n",
      "   ('acoustic', 0.009357746),\n",
      "   ('complex', 0.008916258),\n",
      "   ('urban', 0.008438923),\n",
      "   ('different', 0.008032356),\n",
      "   ('necessary', 0.007954632)]),\n",
      " (53,\n",
      "  [('control', 0.036430344),\n",
      "   ('uavs', 0.034512077),\n",
      "   ('formation', 0.031200916),\n",
      "   ('flight', 0.017029058),\n",
      "   ('crazyflie', 0.015743269),\n",
      "   ('interactive', 0.015596497),\n",
      "   ('mas', 0.012593411),\n",
      "   ('poster', 0.012579433),\n",
      "   ('bertrand', 0.012568628),\n",
      "   ('fleet', 0.012534232)]),\n",
      " (54,\n",
      "  [('system', 0.0827776),\n",
      "   ('design', 0.030341804),\n",
      "   ('model', 0.02584162),\n",
      "   ('software', 0.022224532),\n",
      "   ('critical', 0.01855825),\n",
      "   ('formal', 0.015717847),\n",
      "   ('verification', 0.014371766),\n",
      "   ('control', 0.009805118),\n",
      "   ('different', 0.00964865),\n",
      "   ('campus', 0.009445106)]),\n",
      " (55,\n",
      "  [('economic', 0.02721732),\n",
      "   ('campus', 0.014550741),\n",
      "   ('student', 0.010850385),\n",
      "   ('organization', 0.010322127),\n",
      "   ('growth', 0.009741219),\n",
      "   ('model', 0.009443362),\n",
      "   ('project', 0.008448722),\n",
      "   ('risk', 0.0072440705),\n",
      "   ('description', 0.0070828465),\n",
      "   ('different', 0.0067214756)]),\n",
      " (56,\n",
      "  [('electrical', 0.05417171),\n",
      "   ('energy', 0.053689893),\n",
      "   ('power', 0.034374956),\n",
      "   ('system', 0.033670675),\n",
      "   ('converter', 0.020711226),\n",
      "   ('conversion', 0.018671727),\n",
      "   ('magnetic', 0.017876377),\n",
      "   ('machine', 0.014974751),\n",
      "   ('electric', 0.013059545),\n",
      "   ('engineering', 0.011887358)]),\n",
      " (57,\n",
      "  [('datum', 0.00031871474),\n",
      "   ('student', 0.00027511036),\n",
      "   ('science', 0.00021228156),\n",
      "   ('campus', 0.00020283957),\n",
      "   ('data', 0.00019432826),\n",
      "   ('system', 0.00019253991),\n",
      "   ('project', 0.00018942282),\n",
      "   ('analysis', 0.00018365344),\n",
      "   ('problem', 0.00018090659),\n",
      "   ('consumption', 0.00018085616)]),\n",
      " (58,\n",
      "  [('system', 0.029315447),\n",
      "   ('student', 0.014804955),\n",
      "   ('group', 0.011844005),\n",
      "   ('design', 0.011501004),\n",
      "   ('safety', 0.011067864),\n",
      "   ('day', 0.010715832),\n",
      "   ('project', 0.0098562585),\n",
      "   ('part', 0.009778637),\n",
      "   ('software', 0.009664334),\n",
      "   ('campus', 0.009518864)]),\n",
      " (59,\n",
      "  [('model', 0.013845298),\n",
      "   ('application', 0.0129621755),\n",
      "   ('system', 0.009708456),\n",
      "   ('quantum', 0.009040631),\n",
      "   ('design', 0.008891344),\n",
      "   ('information', 0.008891291),\n",
      "   ('lecture', 0.008575501),\n",
      "   ('theory', 0.007909744),\n",
      "   ('physics', 0.0074516498),\n",
      "   ('analysis', 0.0071983715)]),\n",
      " (60,\n",
      "  [('notion', 0.012700421),\n",
      "   ('balance', 0.012461313),\n",
      "   ('student', 0.012297156),\n",
      "   ('economic', 0.011943545),\n",
      "   ('mechanical', 0.010693226),\n",
      "   ('organization', 0.010418368),\n",
      "   ('team', 0.0099813705),\n",
      "   ('french', 0.009874319),\n",
      "   ('tool', 0.00873853),\n",
      "   ('boundary_layer', 0.008561336)]),\n",
      " (61,\n",
      "  [('model', 0.0004664595),\n",
      "   ('student', 0.0004435779),\n",
      "   ('campus', 0.000383489),\n",
      "   ('system', 0.00038085482),\n",
      "   ('communication', 0.00035234363),\n",
      "   ('session', 0.00033782178),\n",
      "   ('chapter', 0.00032495384),\n",
      "   ('work', 0.00032380156),\n",
      "   ('group', 0.00031757832),\n",
      "   ('description', 0.00031089358)]),\n",
      " (62,\n",
      "  [('datum', 0.024379553),\n",
      "   ('analysis', 0.017281488),\n",
      "   ('scientific', 0.010654751),\n",
      "   ('project', 0.010589251),\n",
      "   ('problem', 0.0099501535),\n",
      "   ('research', 0.009269945),\n",
      "   ('student', 0.0087773735),\n",
      "   ('particle_physic', 0.008181305),\n",
      "   ('industrial', 0.008076783),\n",
      "   ('campus', 0.008063423)]),\n",
      " (63,\n",
      "  [('design', 0.00037118504),\n",
      "   ('control', 0.00032843926),\n",
      "   ('system', 0.0003139756),\n",
      "   ('student', 0.0003001877),\n",
      "   ('model', 0.00025834568),\n",
      "   ('campus', 0.00025493524),\n",
      "   ('information', 0.00023284306),\n",
      "   ('work', 0.0002176),\n",
      "   ('project', 0.00021591684),\n",
      "   ('datum', 0.00021361528)]),\n",
      " (64,\n",
      "  [('hour', 0.013531136),\n",
      "   ('modulation', 0.0125470925),\n",
      "   ('electromagnetic', 0.012453409),\n",
      "   ('energy', 0.011413822),\n",
      "   ('game', 0.010355504),\n",
      "   ('class', 0.010112436),\n",
      "   ('sector', 0.009998247),\n",
      "   ('digital', 0.00965978),\n",
      "   ('management', 0.00957259),\n",
      "   ('group', 0.008720088)]),\n",
      " (65,\n",
      "  [('system', 0.027423482),\n",
      "   ('product', 0.010279291),\n",
      "   ('student', 0.010197344),\n",
      "   ('model', 0.00924278),\n",
      "   ('engineering', 0.00795624),\n",
      "   ('datum', 0.007381649),\n",
      "   ('campus', 0.0073790555),\n",
      "   ('software', 0.007049438),\n",
      "   ('able', 0.006818126),\n",
      "   ('real', 0.0066477326)]),\n",
      " (66,\n",
      "  [('lab', 0.039096434),\n",
      "   ('robotic', 0.03356143),\n",
      "   ('lecture', 0.031028831),\n",
      "   ('ros', 0.028298017),\n",
      "   ('autonomous', 0.020495411),\n",
      "   ('robot', 0.019017497),\n",
      "   ('estimation', 0.016265372),\n",
      "   ('state', 0.015590099),\n",
      "   ('localization', 0.013369141),\n",
      "   ('real', 0.012064895)]),\n",
      " (67,\n",
      "  [('financial', 0.05608429),\n",
      "   ('company', 0.032713965),\n",
      "   ('finance', 0.029535938),\n",
      "   ('management', 0.025091255),\n",
      "   ('law', 0.023038367),\n",
      "   ('statement', 0.0224386),\n",
      "   ('corporate_finance', 0.015143859),\n",
      "   ('year', 0.015112457),\n",
      "   ('flow', 0.014610004),\n",
      "   ('business', 0.010812338)]),\n",
      " (68,\n",
      "  [('cell', 0.00025403596),\n",
      "   ('energy', 0.00023917577),\n",
      "   ('system', 0.00023814),\n",
      "   ('life', 0.00021360371),\n",
      "   ('different', 0.00020312502),\n",
      "   ('game', 0.00020301034),\n",
      "   ('part', 0.00019111605),\n",
      "   ('control', 0.00018827217),\n",
      "   ('introduction', 0.00018508428),\n",
      "   ('balance', 0.00018409318)]),\n",
      " (69,\n",
      "  [('satellite', 0.02416803),\n",
      "   ('design', 0.017703772),\n",
      "   ('control', 0.013956302),\n",
      "   ('end', 0.011679592),\n",
      "   ('day', 0.011435602),\n",
      "   ('orbit', 0.011165931),\n",
      "   ('system', 0.010231373),\n",
      "   ('requirement', 0.009518281),\n",
      "   ('software', 0.008617799),\n",
      "   ('description', 0.008010202)]),\n",
      " (70,\n",
      "  [('laser', 0.023161758),\n",
      "   ('optical', 0.022268198),\n",
      "   ('system', 0.015551747),\n",
      "   ('student', 0.0110667255),\n",
      "   ('web', 0.010269674),\n",
      "   ('different', 0.009464436),\n",
      "   ('radio', 0.0092318915),\n",
      "   ('technology', 0.008849853),\n",
      "   ('app', 0.00840078),\n",
      "   ('campus', 0.008219629)])]\n"
     ]
    }
   ],
   "source": [
    "# print topics\n",
    "pprint(model.topics)"
   ]
  },
  {
   "cell_type": "code",
   "execution_count": 6,
   "metadata": {},
   "outputs": [],
   "source": [
    "topicName = ''\n",
    "TopicsNames =[]\n",
    "for i in model.topics:\n",
    "    for name,prob in i[1][:5]:\n",
    "        topicName = topicName + name + ' ' \n",
    "    TopicsNames.append(topicName)\n",
    "    topicName = ''"
   ]
  },
  {
   "cell_type": "code",
   "execution_count": 7,
   "metadata": {},
   "outputs": [
    {
     "name": "stdout",
     "output_type": "stream",
     "text": [
      "[('arcelormittal steel group part center ',\n",
      "  '0.033*\"arcelormittal\" + 0.030*\"steel\" + 0.030*\"group\" + 0.015*\"part\" + '\n",
      "  '0.013*\"center\" + 0.013*\"production\" + 0.012*\"manufacturing\" + 0.012*\"site\" '\n",
      "  '+ 0.010*\"industry\" + 0.010*\"predictive_maintenance\"'),\n",
      " ('student problem work health campus ',\n",
      "  '0.027*\"student\" + 0.015*\"problem\" + 0.013*\"work\" + 0.012*\"health\" + '\n",
      "  '0.012*\"campus\" + 0.011*\"team\" + 0.011*\"day\" + 0.008*\"business\" + '\n",
      "  '0.007*\"workshop\" + 0.007*\"lecture\"'),\n",
      " ('system student problem project industrial ',\n",
      "  '0.001*\"system\" + 0.001*\"student\" + 0.001*\"problem\" + 0.000*\"project\" + '\n",
      "  '0.000*\"industrial\" + 0.000*\"campus\" + 0.000*\"optimization\" + '\n",
      "  '0.000*\"lecture\" + 0.000*\"description\" + 0.000*\"group\"'),\n",
      " ('campus student language skill group ',\n",
      "  '0.036*\"campus\" + 0.034*\"student\" + 0.031*\"language\" + 0.031*\"skill\" + '\n",
      "  '0.019*\"group\" + 0.018*\"level\" + 0.017*\"end\" + 0.015*\"test\" + '\n",
      "  '0.013*\"culture\" + 0.013*\"semester\"'),\n",
      " ('digital design electronic system student ',\n",
      "  '0.021*\"digital\" + 0.020*\"design\" + 0.017*\"electronic\" + 0.015*\"system\" + '\n",
      "  '0.013*\"student\" + 0.013*\"processing\" + 0.012*\"software\" + 0.011*\"class\" + '\n",
      "  '0.011*\"problem\" + 0.010*\"analog\"'),\n",
      " ('design energy system economic student ',\n",
      "  '0.001*\"design\" + 0.001*\"energy\" + 0.001*\"system\" + 0.001*\"economic\" + '\n",
      "  '0.001*\"student\" + 0.000*\"campus\" + 0.000*\"engineering\" + 0.000*\"model\" + '\n",
      "  '0.000*\"development\" + 0.000*\"process\"'),\n",
      " ('model tutorial robot system session ',\n",
      "  '0.025*\"model\" + 0.012*\"tutorial\" + 0.012*\"robot\" + 0.010*\"system\" + '\n",
      "  '0.009*\"session\" + 0.009*\"final\" + 0.009*\"grade\" + 0.009*\"campus\" + '\n",
      "  '0.008*\"solution\" + 0.008*\"problem\"'),\n",
      " ('energy climate modelica component problem ',\n",
      "  '0.024*\"energy\" + 0.014*\"climate\" + 0.012*\"modelica\" + 0.010*\"component\" + '\n",
      "  '0.010*\"problem\" + 0.010*\"system\" + 0.009*\"production\" + 0.009*\"water\" + '\n",
      "  '0.008*\"electrical\" + 0.008*\"consumption\"'),\n",
      " ('numerical student model fluid_mechanic simulation ',\n",
      "  '0.026*\"numerical\" + 0.023*\"student\" + 0.016*\"model\" + '\n",
      "  '0.016*\"fluid_mechanic\" + 0.013*\"simulation\" + 0.013*\"experimental\" + '\n",
      "  '0.013*\"solid_mechanic\" + 0.010*\"experiment\" + 0.010*\"flow\" + '\n",
      "  '0.010*\"matlab\"'),\n",
      " ('coupling multiphysic comsol mechanical multiphysical ',\n",
      "  '0.057*\"coupling\" + 0.019*\"multiphysic\" + 0.016*\"comsol\" + '\n",
      "  '0.013*\"mechanical\" + 0.013*\"multiphysical\" + 0.009*\"different\" + '\n",
      "  '0.009*\"powder\" + 0.009*\"broad_sense\" + 0.008*\"mechanic\" + 0.008*\"modeling\"'),\n",
      " ('image student processing session section ',\n",
      "  '0.055*\"image\" + 0.014*\"student\" + 0.012*\"processing\" + 0.010*\"session\" + '\n",
      "  '0.010*\"section\" + 0.010*\"analysis\" + 0.008*\"campus\" + 0.008*\"project\" + '\n",
      "  '0.007*\"system\" + 0.006*\"model\"'),\n",
      " ('model quantum tutorial system student ',\n",
      "  '0.012*\"model\" + 0.012*\"quantum\" + 0.012*\"tutorial\" + 0.012*\"system\" + '\n",
      "  '0.012*\"student\" + 0.011*\"physics\" + 0.010*\"energy\" + 0.010*\"problem\" + '\n",
      "  '0.010*\"exoskeleton\" + 0.009*\"electromagnetic\"'),\n",
      " ('cell energy life project deep ',\n",
      "  '0.019*\"cell\" + 0.016*\"energy\" + 0.015*\"life\" + 0.013*\"project\" + '\n",
      "  '0.012*\"deep\" + 0.009*\"production\" + 0.009*\"different\" + 0.008*\"bioprocess\" '\n",
      "  '+ 0.008*\"system\" + 0.008*\"bone\"'),\n",
      " ('design student engineering group process ',\n",
      "  '0.024*\"design\" + 0.018*\"student\" + 0.016*\"engineering\" + 0.014*\"group\" + '\n",
      "  '0.013*\"process\" + 0.011*\"chemical\" + 0.010*\"production\" + 0.008*\"session\" + '\n",
      "  '0.007*\"product\" + 0.007*\"biotechnology\"'),\n",
      " ('control production unit energy system ',\n",
      "  '0.016*\"control\" + 0.015*\"production\" + 0.015*\"unit\" + 0.013*\"energy\" + '\n",
      "  '0.013*\"system\" + 0.012*\"project\" + 0.010*\"mem\" + 0.010*\"application\" + '\n",
      "  '0.008*\"accelerometer\" + 0.008*\"model\"'),\n",
      " ('student session thermal energy year ',\n",
      "  '0.024*\"student\" + 0.023*\"session\" + 0.021*\"thermal\" + 0.020*\"energy\" + '\n",
      "  '0.016*\"year\" + 0.013*\"transfer\" + 0.012*\"teaching_assistant\" + 0.011*\"pbs\" '\n",
      "  '+ 0.010*\"physics\" + 0.010*\"first\"'),\n",
      " ('signal compression image analysis wavelet ',\n",
      "  '0.053*\"signal\" + 0.035*\"compression\" + 0.027*\"image\" + 0.021*\"analysis\" + '\n",
      "  '0.019*\"wavelet\" + 0.017*\"audio\" + 0.016*\"representation\" + 0.015*\"basis\" + '\n",
      "  '0.012*\"datum\" + 0.011*\"orthogonal\"'),\n",
      " ('project scientific mediation expert supervisor ',\n",
      "  '0.036*\"project\" + 0.036*\"scientific\" + 0.024*\"mediation\" + 0.019*\"expert\" + '\n",
      "  '0.018*\"supervisor\" + 0.015*\"research\" + 0.015*\"medium\" + 0.013*\"researcher\" '\n",
      "  '+ 0.011*\"work\" + 0.010*\"public\"'),\n",
      " ('project cost partner optimization part ',\n",
      "  '0.054*\"project\" + 0.016*\"cost\" + 0.016*\"partner\" + 0.013*\"optimization\" + '\n",
      "  '0.013*\"part\" + 0.013*\"management\" + 0.012*\"risk\" + 0.012*\"asset\" + '\n",
      "  '0.012*\"topic\" + 0.012*\"task\"'),\n",
      " ('model modeling datum student system ',\n",
      "  '0.029*\"model\" + 0.013*\"modeling\" + 0.012*\"datum\" + 0.012*\"student\" + '\n",
      "  '0.011*\"system\" + 0.010*\"time\" + 0.010*\"problem\" + 0.009*\"discrete\" + '\n",
      "  '0.009*\"campus\" + 0.009*\"continuous\"'),\n",
      " ('circuit pc communication electronic student ',\n",
      "  '0.027*\"circuit\" + 0.020*\"pc\" + 0.018*\"communication\" + 0.017*\"electronic\" + '\n",
      "  '0.017*\"student\" + 0.016*\"design\" + 0.015*\"practical\" + 0.013*\"transistor\" + '\n",
      "  '0.012*\"cm\" + 0.011*\"case\"'),\n",
      " ('energy microgrid mobility economic electricity ',\n",
      "  '0.026*\"energy\" + 0.019*\"microgrid\" + 0.013*\"mobility\" + 0.011*\"economic\" + '\n",
      "  '0.010*\"electricity\" + 0.009*\"project\" + 0.009*\"problem\" + 0.009*\"electric\" '\n",
      "  '+ 0.008*\"analysis\" + 0.008*\"optimization\"'),\n",
      " ('problem session student estimation campus ',\n",
      "  '0.013*\"problem\" + 0.012*\"session\" + 0.012*\"student\" + 0.008*\"estimation\" + '\n",
      "  '0.008*\"campus\" + 0.008*\"description\" + 0.007*\"computer\" + 0.007*\"notion\" + '\n",
      "  '0.007*\"workshop\" + 0.007*\"project\"'),\n",
      " ('campus application student system deep ',\n",
      "  '0.000*\"campus\" + 0.000*\"application\" + 0.000*\"student\" + 0.000*\"system\" + '\n",
      "  '0.000*\"deep\" + 0.000*\"exoskeleton\" + 0.000*\"solution\" + 0.000*\"parameter\" + '\n",
      "  '0.000*\"description\" + 0.000*\"skill\"'),\n",
      " ('datum information model student network ',\n",
      "  '0.028*\"datum\" + 0.020*\"information\" + 0.016*\"model\" + 0.015*\"student\" + '\n",
      "  '0.011*\"network\" + 0.010*\"campus\" + 0.008*\"team\" + 0.008*\"project\" + '\n",
      "  '0.008*\"software\" + 0.008*\"processing\"'),\n",
      " ('search information_retrieval web information ir ',\n",
      "  '0.040*\"search\" + 0.040*\"information_retrieval\" + 0.038*\"web\" + '\n",
      "  '0.021*\"information\" + 0.018*\"ir\" + 0.018*\"system\" + 0.016*\"recommendation\" '\n",
      "  '+ 0.016*\"model\" + 0.014*\"engine\" + 0.011*\"datum\"'),\n",
      " ('system student control problem campus ',\n",
      "  '0.020*\"system\" + 0.011*\"student\" + 0.010*\"control\" + 0.009*\"problem\" + '\n",
      "  '0.009*\"campus\" + 0.008*\"datum\" + 0.008*\"model\" + 0.007*\"design\" + '\n",
      "  '0.007*\"method\" + 0.007*\"optimization\"'),\n",
      " ('combustion reactive plasma chemical system ',\n",
      "  '0.030*\"combustion\" + 0.026*\"reactive\" + 0.026*\"plasma\" + 0.023*\"chemical\" + '\n",
      "  '0.019*\"system\" + 0.019*\"energy\" + 0.017*\"work\" + 0.014*\"equilibrium\" + '\n",
      "  '0.013*\"class\" + 0.013*\"numerical\"'),\n",
      " ('campus model innovation system description ',\n",
      "  '0.014*\"campus\" + 0.014*\"model\" + 0.012*\"innovation\" + 0.010*\"system\" + '\n",
      "  '0.010*\"description\" + 0.010*\"different\" + 0.009*\"student\" + 0.008*\"optical\" '\n",
      "  '+ 0.008*\"design\" + 0.008*\"group\"'),\n",
      " ('numerical track analysis wave method ',\n",
      "  '0.072*\"numerical\" + 0.044*\"track\" + 0.044*\"analysis\" + 0.032*\"wave\" + '\n",
      "  '0.031*\"method\" + 0.026*\"theoretical\" + 0.026*\"control\" + '\n",
      "  '0.017*\"mathematical\" + 0.017*\"acoustic_electromagnetic\" + 0.016*\"problem\"'),\n",
      " ('model system problem datum campus ',\n",
      "  '0.001*\"model\" + 0.001*\"system\" + 0.001*\"problem\" + 0.000*\"datum\" + '\n",
      "  '0.000*\"campus\" + 0.000*\"tutorial\" + 0.000*\"student\" + 0.000*\"final\" + '\n",
      "  '0.000*\"project\" + 0.000*\"different\"'),\n",
      " ('project problem student report final ',\n",
      "  '0.025*\"project\" + 0.011*\"problem\" + 0.011*\"student\" + 0.011*\"report\" + '\n",
      "  '0.010*\"final\" + 0.010*\"design\" + 0.010*\"datum\" + 0.009*\"defense\" + '\n",
      "  '0.009*\"part\" + 0.009*\"st\"'),\n",
      " ('industrial circular_economy material ecology session ',\n",
      "  '0.020*\"industrial\" + 0.019*\"circular_economy\" + 0.017*\"material\" + '\n",
      "  '0.016*\"ecology\" + 0.014*\"session\" + 0.014*\"professional\" + '\n",
      "  '0.014*\"environmental\" + 0.013*\"action\" + 0.012*\"ethical\" + 0.012*\"impact\"'),\n",
      " ('application development service student web ',\n",
      "  '0.031*\"application\" + 0.025*\"development\" + 0.016*\"service\" + '\n",
      "  '0.015*\"student\" + 0.014*\"web\" + 0.013*\"android\" + 0.013*\"campus\" + '\n",
      "  '0.011*\"java\" + 0.010*\"introduction\" + 0.010*\"description\"'),\n",
      " ('project student team campus work ',\n",
      "  '0.081*\"project\" + 0.022*\"student\" + 0.019*\"team\" + 0.017*\"campus\" + '\n",
      "  '0.016*\"work\" + 0.014*\"cluster\" + 0.011*\"group\" + 0.010*\"skill\" + '\n",
      "  '0.009*\"description\" + 0.009*\"practice\"'),\n",
      " ('process design session system industrial ',\n",
      "  '0.025*\"process\" + 0.015*\"design\" + 0.014*\"session\" + 0.014*\"system\" + '\n",
      "  '0.013*\"industrial\" + 0.013*\"treatment\" + 0.011*\"control\" + '\n",
      "  '0.010*\"production\" + 0.009*\"student\" + 0.009*\"sludge\"'),\n",
      " ('game decision strategic programming strategy ',\n",
      "  '0.037*\"game\" + 0.017*\"decision\" + 0.015*\"strategic\" + 0.015*\"programming\" + '\n",
      "  '0.014*\"strategy\" + 0.014*\"software\" + 0.012*\"games\" + 0.010*\"game_theory\" + '\n",
      "  '0.010*\"development\" + 0.010*\"user\"'),\n",
      " ('network model problem solution system ',\n",
      "  '0.023*\"network\" + 0.022*\"model\" + 0.015*\"problem\" + 0.014*\"solution\" + '\n",
      "  '0.013*\"system\" + 0.012*\"communication\" + 0.012*\"industrial\" + '\n",
      "  '0.010*\"project\" + 0.009*\"management\" + 0.009*\"student\"'),\n",
      " ('material session study student model ',\n",
      "  '0.023*\"material\" + 0.016*\"session\" + 0.015*\"study\" + 0.014*\"student\" + '\n",
      "  '0.013*\"model\" + 0.011*\"problem\" + 0.009*\"work\" + 0.008*\"experimental\" + '\n",
      "  '0.008*\"case\" + 0.008*\"tutorial\"'),\n",
      " ('model system student project application ',\n",
      "  '0.000*\"model\" + 0.000*\"system\" + 0.000*\"student\" + 0.000*\"project\" + '\n",
      "  '0.000*\"application\" + 0.000*\"team\" + 0.000*\"analysis\" + 0.000*\"campus\" + '\n",
      "  '0.000*\"session\" + 0.000*\"image\"'),\n",
      " ('failure chapter decision risk reliability ',\n",
      "  '0.052*\"failure\" + 0.050*\"chapter\" + 0.043*\"decision\" + 0.033*\"risk\" + '\n",
      "  '0.024*\"reliability\" + 0.023*\"availability\" + 0.023*\"uncertainty\" + '\n",
      "  '0.020*\"diagnosis\" + 0.020*\"prognosis\" + 0.014*\"prognostic\"'),\n",
      " ('communication information channel system campus ',\n",
      "  '0.015*\"communication\" + 0.013*\"information\" + 0.012*\"channel\" + '\n",
      "  '0.011*\"system\" + 0.010*\"campus\" + 0.009*\"digital\" + 0.009*\"tutorial\" + '\n",
      "  '0.009*\"application\" + 0.008*\"fundamental\" + 0.008*\"analysis\"'),\n",
      " ('datum big_data public fr lab ',\n",
      "  '0.019*\"datum\" + 0.014*\"big_data\" + 0.011*\"public\" + 0.010*\"fr\" + '\n",
      "  '0.010*\"lab\" + 0.009*\"environment\" + 0.008*\"architecture\" + 0.008*\"nosql\" + '\n",
      "  '0.008*\"algorithm\" + 0.008*\"performance\"'),\n",
      " ('business student session digital model ',\n",
      "  '0.015*\"business\" + 0.013*\"student\" + 0.011*\"session\" + 0.010*\"digital\" + '\n",
      "  '0.010*\"model\" + 0.009*\"hour\" + 0.009*\"company\" + 0.008*\"management\" + '\n",
      "  '0.008*\"campus\" + 0.008*\"case\"'),\n",
      " ('optimization project student method problem ',\n",
      "  '0.031*\"optimization\" + 0.013*\"project\" + 0.013*\"student\" + 0.013*\"method\" + '\n",
      "  '0.012*\"problem\" + 0.010*\"datum\" + 0.009*\"campus\" + 0.009*\"consumption\" + '\n",
      "  '0.008*\"energy\" + 0.008*\"system\"'),\n",
      " ('model programming student problem biofilm ',\n",
      "  '0.023*\"model\" + 0.011*\"programming\" + 0.010*\"student\" + 0.009*\"problem\" + '\n",
      "  '0.008*\"biofilm\" + 0.008*\"different\" + 0.007*\"biomaterial\" + '\n",
      "  '0.007*\"scientific\" + 0.007*\"campus\" + 0.007*\"scale\"'),\n",
      " ('relevant particle_physic final examination equation ',\n",
      "  '0.019*\"relevant\" + 0.018*\"particle_physic\" + 0.016*\"final\" + '\n",
      "  '0.015*\"examination\" + 0.015*\"equation\" + 0.014*\"linkage\" + '\n",
      "  '0.012*\"principle\" + 0.012*\"grade\" + 0.011*\"gravitation\" + 0.011*\"force\"'),\n",
      " ('system datum control campus development ',\n",
      "  '0.001*\"system\" + 0.000*\"datum\" + 0.000*\"control\" + 0.000*\"campus\" + '\n",
      "  '0.000*\"development\" + 0.000*\"student\" + 0.000*\"model\" + 0.000*\"software\" + '\n",
      "  '0.000*\"design\" + 0.000*\"problem\"'),\n",
      " ('language linux programming spanish system ',\n",
      "  '0.038*\"language\" + 0.015*\"linux\" + 0.013*\"programming\" + 0.013*\"spanish\" + '\n",
      "  '0.012*\"system\" + 0.012*\"campus\" + 0.011*\"performance\" + 0.011*\"rust\" + '\n",
      "  '0.010*\"program\" + 0.010*\"design\"'),\n",
      " ('system control design campus flight ',\n",
      "  '0.023*\"system\" + 0.013*\"control\" + 0.010*\"design\" + 0.008*\"campus\" + '\n",
      "  '0.007*\"flight\" + 0.007*\"part\" + 0.007*\"movement\" + 0.007*\"description\" + '\n",
      "  '0.007*\"robot\" + 0.007*\"game\"'),\n",
      " ('brain model chapter activity neuron ',\n",
      "  '0.030*\"brain\" + 0.029*\"model\" + 0.023*\"chapter\" + 0.017*\"activity\" + '\n",
      "  '0.015*\"neuron\" + 0.013*\"neuroscience\" + 0.013*\"neuronal\" + '\n",
      "  '0.010*\"population\" + 0.010*\"lab\" + 0.010*\"session\"'),\n",
      " ('bayesian inference model topic session ',\n",
      "  '0.042*\"bayesian\" + 0.032*\"inference\" + 0.030*\"model\" + 0.026*\"topic\" + '\n",
      "  '0.014*\"session\" + 0.013*\"algorithm\" + 0.013*\"method\" + 0.012*\"learning\" + '\n",
      "  '0.011*\"datum\" + 0.010*\"technique\"'),\n",
      " ('system design control constraint development ',\n",
      "  '0.020*\"system\" + 0.015*\"design\" + 0.015*\"control\" + 0.011*\"constraint\" + '\n",
      "  '0.011*\"development\" + 0.009*\"acoustic\" + 0.009*\"complex\" + 0.008*\"urban\" + '\n",
      "  '0.008*\"different\" + 0.008*\"necessary\"'),\n",
      " ('control uavs formation flight crazyflie ',\n",
      "  '0.036*\"control\" + 0.035*\"uavs\" + 0.031*\"formation\" + 0.017*\"flight\" + '\n",
      "  '0.016*\"crazyflie\" + 0.016*\"interactive\" + 0.013*\"mas\" + 0.013*\"poster\" + '\n",
      "  '0.013*\"bertrand\" + 0.013*\"fleet\"'),\n",
      " ('system design model software critical ',\n",
      "  '0.083*\"system\" + 0.030*\"design\" + 0.026*\"model\" + 0.022*\"software\" + '\n",
      "  '0.019*\"critical\" + 0.016*\"formal\" + 0.014*\"verification\" + 0.010*\"control\" '\n",
      "  '+ 0.010*\"different\" + 0.009*\"campus\"'),\n",
      " ('economic campus student organization growth ',\n",
      "  '0.027*\"economic\" + 0.015*\"campus\" + 0.011*\"student\" + 0.010*\"organization\" '\n",
      "  '+ 0.010*\"growth\" + 0.009*\"model\" + 0.008*\"project\" + 0.007*\"risk\" + '\n",
      "  '0.007*\"description\" + 0.007*\"different\"'),\n",
      " ('electrical energy power system converter ',\n",
      "  '0.054*\"electrical\" + 0.054*\"energy\" + 0.034*\"power\" + 0.034*\"system\" + '\n",
      "  '0.021*\"converter\" + 0.019*\"conversion\" + 0.018*\"magnetic\" + 0.015*\"machine\" '\n",
      "  '+ 0.013*\"electric\" + 0.012*\"engineering\"'),\n",
      " ('datum student science campus data ',\n",
      "  '0.000*\"datum\" + 0.000*\"student\" + 0.000*\"science\" + 0.000*\"campus\" + '\n",
      "  '0.000*\"data\" + 0.000*\"system\" + 0.000*\"project\" + 0.000*\"analysis\" + '\n",
      "  '0.000*\"problem\" + 0.000*\"consumption\"'),\n",
      " ('system student group design safety ',\n",
      "  '0.029*\"system\" + 0.015*\"student\" + 0.012*\"group\" + 0.012*\"design\" + '\n",
      "  '0.011*\"safety\" + 0.011*\"day\" + 0.010*\"project\" + 0.010*\"part\" + '\n",
      "  '0.010*\"software\" + 0.010*\"campus\"'),\n",
      " ('model application system quantum design ',\n",
      "  '0.014*\"model\" + 0.013*\"application\" + 0.010*\"system\" + 0.009*\"quantum\" + '\n",
      "  '0.009*\"design\" + 0.009*\"information\" + 0.009*\"lecture\" + 0.008*\"theory\" + '\n",
      "  '0.007*\"physics\" + 0.007*\"analysis\"'),\n",
      " ('notion balance student economic mechanical ',\n",
      "  '0.013*\"notion\" + 0.012*\"balance\" + 0.012*\"student\" + 0.012*\"economic\" + '\n",
      "  '0.011*\"mechanical\" + 0.010*\"organization\" + 0.010*\"team\" + 0.010*\"french\" + '\n",
      "  '0.009*\"tool\" + 0.009*\"boundary_layer\"'),\n",
      " ('model student campus system communication ',\n",
      "  '0.000*\"model\" + 0.000*\"student\" + 0.000*\"campus\" + 0.000*\"system\" + '\n",
      "  '0.000*\"communication\" + 0.000*\"session\" + 0.000*\"chapter\" + 0.000*\"work\" + '\n",
      "  '0.000*\"group\" + 0.000*\"description\"'),\n",
      " ('datum analysis scientific project problem ',\n",
      "  '0.024*\"datum\" + 0.017*\"analysis\" + 0.011*\"scientific\" + 0.011*\"project\" + '\n",
      "  '0.010*\"problem\" + 0.009*\"research\" + 0.009*\"student\" + '\n",
      "  '0.008*\"particle_physic\" + 0.008*\"industrial\" + 0.008*\"campus\"'),\n",
      " ('design control system student model ',\n",
      "  '0.000*\"design\" + 0.000*\"control\" + 0.000*\"system\" + 0.000*\"student\" + '\n",
      "  '0.000*\"model\" + 0.000*\"campus\" + 0.000*\"information\" + 0.000*\"work\" + '\n",
      "  '0.000*\"project\" + 0.000*\"datum\"'),\n",
      " ('hour modulation electromagnetic energy game ',\n",
      "  '0.014*\"hour\" + 0.013*\"modulation\" + 0.012*\"electromagnetic\" + '\n",
      "  '0.011*\"energy\" + 0.010*\"game\" + 0.010*\"class\" + 0.010*\"sector\" + '\n",
      "  '0.010*\"digital\" + 0.010*\"management\" + 0.009*\"group\"'),\n",
      " ('system product student model engineering ',\n",
      "  '0.027*\"system\" + 0.010*\"product\" + 0.010*\"student\" + 0.009*\"model\" + '\n",
      "  '0.008*\"engineering\" + 0.007*\"datum\" + 0.007*\"campus\" + 0.007*\"software\" + '\n",
      "  '0.007*\"able\" + 0.007*\"real\"'),\n",
      " ('lab robotic lecture ros autonomous ',\n",
      "  '0.039*\"lab\" + 0.034*\"robotic\" + 0.031*\"lecture\" + 0.028*\"ros\" + '\n",
      "  '0.020*\"autonomous\" + 0.019*\"robot\" + 0.016*\"estimation\" + 0.016*\"state\" + '\n",
      "  '0.013*\"localization\" + 0.012*\"real\"'),\n",
      " ('financial company finance management law ',\n",
      "  '0.056*\"financial\" + 0.033*\"company\" + 0.030*\"finance\" + 0.025*\"management\" '\n",
      "  '+ 0.023*\"law\" + 0.022*\"statement\" + 0.015*\"corporate_finance\" + '\n",
      "  '0.015*\"year\" + 0.015*\"flow\" + 0.011*\"business\"'),\n",
      " ('cell energy system life different ',\n",
      "  '0.000*\"cell\" + 0.000*\"energy\" + 0.000*\"system\" + 0.000*\"life\" + '\n",
      "  '0.000*\"different\" + 0.000*\"game\" + 0.000*\"part\" + 0.000*\"control\" + '\n",
      "  '0.000*\"introduction\" + 0.000*\"balance\"'),\n",
      " ('satellite design control end day ',\n",
      "  '0.024*\"satellite\" + 0.018*\"design\" + 0.014*\"control\" + 0.012*\"end\" + '\n",
      "  '0.011*\"day\" + 0.011*\"orbit\" + 0.010*\"system\" + 0.010*\"requirement\" + '\n",
      "  '0.009*\"software\" + 0.008*\"description\"'),\n",
      " ('laser optical system student web ',\n",
      "  '0.023*\"laser\" + 0.022*\"optical\" + 0.016*\"system\" + 0.011*\"student\" + '\n",
      "  '0.010*\"web\" + 0.009*\"different\" + 0.009*\"radio\" + 0.009*\"technology\" + '\n",
      "  '0.008*\"app\" + 0.008*\"campus\"')]\n"
     ]
    }
   ],
   "source": [
    "model.set_topic_names(TopicsNames)\n",
    "pprint(model.topics)"
   ]
  },
  {
   "cell_type": "markdown",
   "metadata": {},
   "source": [
    "We can see that there are some clusters that seem to refer to specific topics in machine learning. One of them is topic 7, which seems to direcly relate to sequential and time-series data. Another example is topic 10, which seems to be related to reinforcement learning.\n",
    "\n",
    "To make it easier to refer to these topic clusters, we will assign (tentative) names to each of them. Note that these names are subject to interpretation and are only assigned to help \"summarize\" each cluster."
   ]
  },
  {
   "cell_type": "markdown",
   "metadata": {},
   "source": [
    "### Predict topics for a paper\n",
    "\n",
    "Let us see how our model predicts a paper taken directly from arXiv. Using the `scrape_arxiv_abstract()` function, we can extract the title and the abstract of any paper on arXiv given its URL. Once scraped, this title and abstract can be passed into our topic model's `predict()` method.\n",
    "\n",
    "To illustrate, let us scrape the title and abstract from the seminal paper [\"Attention Is All You Need\" (2017)](https://arxiv.org/abs/1706.03762) and see what topics the model detects."
   ]
  },
  {
   "cell_type": "code",
   "execution_count": 8,
   "metadata": {},
   "outputs": [],
   "source": [
    "text = \"The physical systems generally rely on the fundamental concept of a feedback loop, allowing them to be controlled and giving them a behavior that is as insensitive as possible to environmental disturbances. The general objective of this course is to provide students with the concepts and skills enabling them to understand the structure and interactions within existing dynamic systems or along with their design. They will also be able to process information, design a control law to meet specifications, and analyze its performance and robustness. To achieve this, the students must first be able to define a model (or a set of models), highlighting the variables influencing the state of this system (inputs), the measures allowing access to this state, and variables to which the specifications relate (outputs), as well as the relationships between these variables. Then, in a second step, and from the analysis of the inputs that can be controlled (commands) or those that are undergone (disturbances), students will have to design a control law in order to ensure the expected performances. The last step in this course will concern the analysis of the robustness of the determined control law.\""
   ]
  },
  {
   "cell_type": "code",
   "execution_count": 9,
   "metadata": {},
   "outputs": [],
   "source": [
    "# get predictions\n",
    "predictions = model.predict(text)"
   ]
  },
  {
   "cell_type": "code",
   "execution_count": 10,
   "metadata": {},
   "outputs": [],
   "source": [
    "Top5Topics, Top5Probabilities = model.predictToChart(text)"
   ]
  },
  {
   "cell_type": "code",
   "execution_count": 11,
   "metadata": {},
   "outputs": [
    {
     "name": "stderr",
     "output_type": "stream",
     "text": [
      "/home/vitoriano/.local/lib/python3.10/site-packages/plotly/express/_core.py:271: FutureWarning: The frame.append method is deprecated and will be removed from pandas in a future version. Use pandas.concat instead.\n",
      "  trace_data = trace_data.append(trace_data.iloc[0])\n"
     ]
    },
    {
     "data": {
      "application/vnd.plotly.v1+json": {
       "config": {
        "plotlyServerURL": "https://plot.ly"
       },
       "data": [
        {
         "hovertemplate": "r=%{r}<br>theta=%{theta}<extra></extra>",
         "legendgroup": "",
         "line": {
          "color": "#636efa",
          "dash": "solid"
         },
         "marker": {
          "symbol": "circle"
         },
         "mode": "lines",
         "name": "",
         "r": [
          0.9852828979492188,
          0.000210244077607058,
          0.000210244077607058,
          0.000210244077607058,
          0.000210244077607058,
          0.9852828979492188
         ],
         "showlegend": false,
         "subplot": "polar",
         "theta": [
          "system student control problem campus ",
          "arcelormittal steel group part center ",
          "student problem work health campus ",
          "system student problem project industrial ",
          "campus student language skill group ",
          "system student control problem campus "
         ],
         "type": "scatterpolar"
        }
       ],
       "layout": {
        "legend": {
         "tracegroupgap": 0
        },
        "margin": {
         "t": 60
        },
        "polar": {
         "angularaxis": {
          "direction": "clockwise",
          "rotation": 90
         },
         "domain": {
          "x": [
           0,
           1
          ],
          "y": [
           0,
           1
          ]
         }
        },
        "template": {
         "data": {
          "bar": [
           {
            "error_x": {
             "color": "#2a3f5f"
            },
            "error_y": {
             "color": "#2a3f5f"
            },
            "marker": {
             "line": {
              "color": "#E5ECF6",
              "width": 0.5
             },
             "pattern": {
              "fillmode": "overlay",
              "size": 10,
              "solidity": 0.2
             }
            },
            "type": "bar"
           }
          ],
          "barpolar": [
           {
            "marker": {
             "line": {
              "color": "#E5ECF6",
              "width": 0.5
             },
             "pattern": {
              "fillmode": "overlay",
              "size": 10,
              "solidity": 0.2
             }
            },
            "type": "barpolar"
           }
          ],
          "carpet": [
           {
            "aaxis": {
             "endlinecolor": "#2a3f5f",
             "gridcolor": "white",
             "linecolor": "white",
             "minorgridcolor": "white",
             "startlinecolor": "#2a3f5f"
            },
            "baxis": {
             "endlinecolor": "#2a3f5f",
             "gridcolor": "white",
             "linecolor": "white",
             "minorgridcolor": "white",
             "startlinecolor": "#2a3f5f"
            },
            "type": "carpet"
           }
          ],
          "choropleth": [
           {
            "colorbar": {
             "outlinewidth": 0,
             "ticks": ""
            },
            "type": "choropleth"
           }
          ],
          "contour": [
           {
            "colorbar": {
             "outlinewidth": 0,
             "ticks": ""
            },
            "colorscale": [
             [
              0,
              "#0d0887"
             ],
             [
              0.1111111111111111,
              "#46039f"
             ],
             [
              0.2222222222222222,
              "#7201a8"
             ],
             [
              0.3333333333333333,
              "#9c179e"
             ],
             [
              0.4444444444444444,
              "#bd3786"
             ],
             [
              0.5555555555555556,
              "#d8576b"
             ],
             [
              0.6666666666666666,
              "#ed7953"
             ],
             [
              0.7777777777777778,
              "#fb9f3a"
             ],
             [
              0.8888888888888888,
              "#fdca26"
             ],
             [
              1,
              "#f0f921"
             ]
            ],
            "type": "contour"
           }
          ],
          "contourcarpet": [
           {
            "colorbar": {
             "outlinewidth": 0,
             "ticks": ""
            },
            "type": "contourcarpet"
           }
          ],
          "heatmap": [
           {
            "colorbar": {
             "outlinewidth": 0,
             "ticks": ""
            },
            "colorscale": [
             [
              0,
              "#0d0887"
             ],
             [
              0.1111111111111111,
              "#46039f"
             ],
             [
              0.2222222222222222,
              "#7201a8"
             ],
             [
              0.3333333333333333,
              "#9c179e"
             ],
             [
              0.4444444444444444,
              "#bd3786"
             ],
             [
              0.5555555555555556,
              "#d8576b"
             ],
             [
              0.6666666666666666,
              "#ed7953"
             ],
             [
              0.7777777777777778,
              "#fb9f3a"
             ],
             [
              0.8888888888888888,
              "#fdca26"
             ],
             [
              1,
              "#f0f921"
             ]
            ],
            "type": "heatmap"
           }
          ],
          "heatmapgl": [
           {
            "colorbar": {
             "outlinewidth": 0,
             "ticks": ""
            },
            "colorscale": [
             [
              0,
              "#0d0887"
             ],
             [
              0.1111111111111111,
              "#46039f"
             ],
             [
              0.2222222222222222,
              "#7201a8"
             ],
             [
              0.3333333333333333,
              "#9c179e"
             ],
             [
              0.4444444444444444,
              "#bd3786"
             ],
             [
              0.5555555555555556,
              "#d8576b"
             ],
             [
              0.6666666666666666,
              "#ed7953"
             ],
             [
              0.7777777777777778,
              "#fb9f3a"
             ],
             [
              0.8888888888888888,
              "#fdca26"
             ],
             [
              1,
              "#f0f921"
             ]
            ],
            "type": "heatmapgl"
           }
          ],
          "histogram": [
           {
            "marker": {
             "pattern": {
              "fillmode": "overlay",
              "size": 10,
              "solidity": 0.2
             }
            },
            "type": "histogram"
           }
          ],
          "histogram2d": [
           {
            "colorbar": {
             "outlinewidth": 0,
             "ticks": ""
            },
            "colorscale": [
             [
              0,
              "#0d0887"
             ],
             [
              0.1111111111111111,
              "#46039f"
             ],
             [
              0.2222222222222222,
              "#7201a8"
             ],
             [
              0.3333333333333333,
              "#9c179e"
             ],
             [
              0.4444444444444444,
              "#bd3786"
             ],
             [
              0.5555555555555556,
              "#d8576b"
             ],
             [
              0.6666666666666666,
              "#ed7953"
             ],
             [
              0.7777777777777778,
              "#fb9f3a"
             ],
             [
              0.8888888888888888,
              "#fdca26"
             ],
             [
              1,
              "#f0f921"
             ]
            ],
            "type": "histogram2d"
           }
          ],
          "histogram2dcontour": [
           {
            "colorbar": {
             "outlinewidth": 0,
             "ticks": ""
            },
            "colorscale": [
             [
              0,
              "#0d0887"
             ],
             [
              0.1111111111111111,
              "#46039f"
             ],
             [
              0.2222222222222222,
              "#7201a8"
             ],
             [
              0.3333333333333333,
              "#9c179e"
             ],
             [
              0.4444444444444444,
              "#bd3786"
             ],
             [
              0.5555555555555556,
              "#d8576b"
             ],
             [
              0.6666666666666666,
              "#ed7953"
             ],
             [
              0.7777777777777778,
              "#fb9f3a"
             ],
             [
              0.8888888888888888,
              "#fdca26"
             ],
             [
              1,
              "#f0f921"
             ]
            ],
            "type": "histogram2dcontour"
           }
          ],
          "mesh3d": [
           {
            "colorbar": {
             "outlinewidth": 0,
             "ticks": ""
            },
            "type": "mesh3d"
           }
          ],
          "parcoords": [
           {
            "line": {
             "colorbar": {
              "outlinewidth": 0,
              "ticks": ""
             }
            },
            "type": "parcoords"
           }
          ],
          "pie": [
           {
            "automargin": true,
            "type": "pie"
           }
          ],
          "scatter": [
           {
            "fillpattern": {
             "fillmode": "overlay",
             "size": 10,
             "solidity": 0.2
            },
            "type": "scatter"
           }
          ],
          "scatter3d": [
           {
            "line": {
             "colorbar": {
              "outlinewidth": 0,
              "ticks": ""
             }
            },
            "marker": {
             "colorbar": {
              "outlinewidth": 0,
              "ticks": ""
             }
            },
            "type": "scatter3d"
           }
          ],
          "scattercarpet": [
           {
            "marker": {
             "colorbar": {
              "outlinewidth": 0,
              "ticks": ""
             }
            },
            "type": "scattercarpet"
           }
          ],
          "scattergeo": [
           {
            "marker": {
             "colorbar": {
              "outlinewidth": 0,
              "ticks": ""
             }
            },
            "type": "scattergeo"
           }
          ],
          "scattergl": [
           {
            "marker": {
             "colorbar": {
              "outlinewidth": 0,
              "ticks": ""
             }
            },
            "type": "scattergl"
           }
          ],
          "scattermapbox": [
           {
            "marker": {
             "colorbar": {
              "outlinewidth": 0,
              "ticks": ""
             }
            },
            "type": "scattermapbox"
           }
          ],
          "scatterpolar": [
           {
            "marker": {
             "colorbar": {
              "outlinewidth": 0,
              "ticks": ""
             }
            },
            "type": "scatterpolar"
           }
          ],
          "scatterpolargl": [
           {
            "marker": {
             "colorbar": {
              "outlinewidth": 0,
              "ticks": ""
             }
            },
            "type": "scatterpolargl"
           }
          ],
          "scatterternary": [
           {
            "marker": {
             "colorbar": {
              "outlinewidth": 0,
              "ticks": ""
             }
            },
            "type": "scatterternary"
           }
          ],
          "surface": [
           {
            "colorbar": {
             "outlinewidth": 0,
             "ticks": ""
            },
            "colorscale": [
             [
              0,
              "#0d0887"
             ],
             [
              0.1111111111111111,
              "#46039f"
             ],
             [
              0.2222222222222222,
              "#7201a8"
             ],
             [
              0.3333333333333333,
              "#9c179e"
             ],
             [
              0.4444444444444444,
              "#bd3786"
             ],
             [
              0.5555555555555556,
              "#d8576b"
             ],
             [
              0.6666666666666666,
              "#ed7953"
             ],
             [
              0.7777777777777778,
              "#fb9f3a"
             ],
             [
              0.8888888888888888,
              "#fdca26"
             ],
             [
              1,
              "#f0f921"
             ]
            ],
            "type": "surface"
           }
          ],
          "table": [
           {
            "cells": {
             "fill": {
              "color": "#EBF0F8"
             },
             "line": {
              "color": "white"
             }
            },
            "header": {
             "fill": {
              "color": "#C8D4E3"
             },
             "line": {
              "color": "white"
             }
            },
            "type": "table"
           }
          ]
         },
         "layout": {
          "annotationdefaults": {
           "arrowcolor": "#2a3f5f",
           "arrowhead": 0,
           "arrowwidth": 1
          },
          "autotypenumbers": "strict",
          "coloraxis": {
           "colorbar": {
            "outlinewidth": 0,
            "ticks": ""
           }
          },
          "colorscale": {
           "diverging": [
            [
             0,
             "#8e0152"
            ],
            [
             0.1,
             "#c51b7d"
            ],
            [
             0.2,
             "#de77ae"
            ],
            [
             0.3,
             "#f1b6da"
            ],
            [
             0.4,
             "#fde0ef"
            ],
            [
             0.5,
             "#f7f7f7"
            ],
            [
             0.6,
             "#e6f5d0"
            ],
            [
             0.7,
             "#b8e186"
            ],
            [
             0.8,
             "#7fbc41"
            ],
            [
             0.9,
             "#4d9221"
            ],
            [
             1,
             "#276419"
            ]
           ],
           "sequential": [
            [
             0,
             "#0d0887"
            ],
            [
             0.1111111111111111,
             "#46039f"
            ],
            [
             0.2222222222222222,
             "#7201a8"
            ],
            [
             0.3333333333333333,
             "#9c179e"
            ],
            [
             0.4444444444444444,
             "#bd3786"
            ],
            [
             0.5555555555555556,
             "#d8576b"
            ],
            [
             0.6666666666666666,
             "#ed7953"
            ],
            [
             0.7777777777777778,
             "#fb9f3a"
            ],
            [
             0.8888888888888888,
             "#fdca26"
            ],
            [
             1,
             "#f0f921"
            ]
           ],
           "sequentialminus": [
            [
             0,
             "#0d0887"
            ],
            [
             0.1111111111111111,
             "#46039f"
            ],
            [
             0.2222222222222222,
             "#7201a8"
            ],
            [
             0.3333333333333333,
             "#9c179e"
            ],
            [
             0.4444444444444444,
             "#bd3786"
            ],
            [
             0.5555555555555556,
             "#d8576b"
            ],
            [
             0.6666666666666666,
             "#ed7953"
            ],
            [
             0.7777777777777778,
             "#fb9f3a"
            ],
            [
             0.8888888888888888,
             "#fdca26"
            ],
            [
             1,
             "#f0f921"
            ]
           ]
          },
          "colorway": [
           "#636efa",
           "#EF553B",
           "#00cc96",
           "#ab63fa",
           "#FFA15A",
           "#19d3f3",
           "#FF6692",
           "#B6E880",
           "#FF97FF",
           "#FECB52"
          ],
          "font": {
           "color": "#2a3f5f"
          },
          "geo": {
           "bgcolor": "white",
           "lakecolor": "white",
           "landcolor": "#E5ECF6",
           "showlakes": true,
           "showland": true,
           "subunitcolor": "white"
          },
          "hoverlabel": {
           "align": "left"
          },
          "hovermode": "closest",
          "mapbox": {
           "style": "light"
          },
          "paper_bgcolor": "white",
          "plot_bgcolor": "#E5ECF6",
          "polar": {
           "angularaxis": {
            "gridcolor": "white",
            "linecolor": "white",
            "ticks": ""
           },
           "bgcolor": "#E5ECF6",
           "radialaxis": {
            "gridcolor": "white",
            "linecolor": "white",
            "ticks": ""
           }
          },
          "scene": {
           "xaxis": {
            "backgroundcolor": "#E5ECF6",
            "gridcolor": "white",
            "gridwidth": 2,
            "linecolor": "white",
            "showbackground": true,
            "ticks": "",
            "zerolinecolor": "white"
           },
           "yaxis": {
            "backgroundcolor": "#E5ECF6",
            "gridcolor": "white",
            "gridwidth": 2,
            "linecolor": "white",
            "showbackground": true,
            "ticks": "",
            "zerolinecolor": "white"
           },
           "zaxis": {
            "backgroundcolor": "#E5ECF6",
            "gridcolor": "white",
            "gridwidth": 2,
            "linecolor": "white",
            "showbackground": true,
            "ticks": "",
            "zerolinecolor": "white"
           }
          },
          "shapedefaults": {
           "line": {
            "color": "#2a3f5f"
           }
          },
          "ternary": {
           "aaxis": {
            "gridcolor": "white",
            "linecolor": "white",
            "ticks": ""
           },
           "baxis": {
            "gridcolor": "white",
            "linecolor": "white",
            "ticks": ""
           },
           "bgcolor": "#E5ECF6",
           "caxis": {
            "gridcolor": "white",
            "linecolor": "white",
            "ticks": ""
           }
          },
          "title": {
           "x": 0.05
          },
          "xaxis": {
           "automargin": true,
           "gridcolor": "white",
           "linecolor": "white",
           "ticks": "",
           "title": {
            "standoff": 15
           },
           "zerolinecolor": "white",
           "zerolinewidth": 2
          },
          "yaxis": {
           "automargin": true,
           "gridcolor": "white",
           "linecolor": "white",
           "ticks": "",
           "title": {
            "standoff": 15
           },
           "zerolinecolor": "white",
           "zerolinewidth": 2
          }
         }
        }
       }
      }
     },
     "metadata": {},
     "output_type": "display_data"
    }
   ],
   "source": [
    "fig = px.line_polar(r=Top5Probabilities, theta=Top5Topics, line_close=True)\n",
    "fig.show()"
   ]
  },
  {
   "cell_type": "code",
   "execution_count": 12,
   "metadata": {},
   "outputs": [],
   "source": [
    "text2 = \"The goal of this training is to let you discover the different stages of an aircraft design process in both a theoretical and a practical perspective. You will be introduced to the typical methods used in an aircraft design office, and apply this knowledge by doing the preliminary design of your own aircraft. After completing this training course, you will have acquired knowledge and skills that will enable you to work out the main aircraft characteristics and layout in a very short time frame.\"\n"
   ]
  },
  {
   "cell_type": "code",
   "execution_count": 13,
   "metadata": {},
   "outputs": [],
   "source": [
    "Top5Topics, Top5Probabilities = model.predictToChart(text2)"
   ]
  },
  {
   "cell_type": "code",
   "execution_count": 14,
   "metadata": {},
   "outputs": [
    {
     "name": "stderr",
     "output_type": "stream",
     "text": [
      "/home/vitoriano/.local/lib/python3.10/site-packages/plotly/express/_core.py:271: FutureWarning:\n",
      "\n",
      "The frame.append method is deprecated and will be removed from pandas in a future version. Use pandas.concat instead.\n",
      "\n"
     ]
    },
    {
     "data": {
      "application/vnd.plotly.v1+json": {
       "config": {
        "plotlyServerURL": "https://plot.ly"
       },
       "data": [
        {
         "hovertemplate": "r=%{r}<br>theta=%{theta}<extra></extra>",
         "legendgroup": "",
         "line": {
          "color": "#636efa",
          "dash": "solid"
         },
         "marker": {
          "symbol": "circle"
         },
         "mode": "lines",
         "name": "",
         "r": [
          0.7536547780036926,
          0.12154729664325714,
          0.09389619529247284,
          0.00045443690032698214,
          0.00045443690032698214,
          0.7536547780036926
         ],
         "showlegend": false,
         "subplot": "polar",
         "theta": [
          "system design control constraint development ",
          "process design session system industrial ",
          "satellite design control end day ",
          "arcelormittal steel group part center ",
          "student problem work health campus ",
          "system design control constraint development "
         ],
         "type": "scatterpolar"
        }
       ],
       "layout": {
        "legend": {
         "tracegroupgap": 0
        },
        "margin": {
         "t": 60
        },
        "polar": {
         "angularaxis": {
          "direction": "clockwise",
          "rotation": 90
         },
         "domain": {
          "x": [
           0,
           1
          ],
          "y": [
           0,
           1
          ]
         }
        },
        "template": {
         "data": {
          "bar": [
           {
            "error_x": {
             "color": "#2a3f5f"
            },
            "error_y": {
             "color": "#2a3f5f"
            },
            "marker": {
             "line": {
              "color": "#E5ECF6",
              "width": 0.5
             },
             "pattern": {
              "fillmode": "overlay",
              "size": 10,
              "solidity": 0.2
             }
            },
            "type": "bar"
           }
          ],
          "barpolar": [
           {
            "marker": {
             "line": {
              "color": "#E5ECF6",
              "width": 0.5
             },
             "pattern": {
              "fillmode": "overlay",
              "size": 10,
              "solidity": 0.2
             }
            },
            "type": "barpolar"
           }
          ],
          "carpet": [
           {
            "aaxis": {
             "endlinecolor": "#2a3f5f",
             "gridcolor": "white",
             "linecolor": "white",
             "minorgridcolor": "white",
             "startlinecolor": "#2a3f5f"
            },
            "baxis": {
             "endlinecolor": "#2a3f5f",
             "gridcolor": "white",
             "linecolor": "white",
             "minorgridcolor": "white",
             "startlinecolor": "#2a3f5f"
            },
            "type": "carpet"
           }
          ],
          "choropleth": [
           {
            "colorbar": {
             "outlinewidth": 0,
             "ticks": ""
            },
            "type": "choropleth"
           }
          ],
          "contour": [
           {
            "colorbar": {
             "outlinewidth": 0,
             "ticks": ""
            },
            "colorscale": [
             [
              0,
              "#0d0887"
             ],
             [
              0.1111111111111111,
              "#46039f"
             ],
             [
              0.2222222222222222,
              "#7201a8"
             ],
             [
              0.3333333333333333,
              "#9c179e"
             ],
             [
              0.4444444444444444,
              "#bd3786"
             ],
             [
              0.5555555555555556,
              "#d8576b"
             ],
             [
              0.6666666666666666,
              "#ed7953"
             ],
             [
              0.7777777777777778,
              "#fb9f3a"
             ],
             [
              0.8888888888888888,
              "#fdca26"
             ],
             [
              1,
              "#f0f921"
             ]
            ],
            "type": "contour"
           }
          ],
          "contourcarpet": [
           {
            "colorbar": {
             "outlinewidth": 0,
             "ticks": ""
            },
            "type": "contourcarpet"
           }
          ],
          "heatmap": [
           {
            "colorbar": {
             "outlinewidth": 0,
             "ticks": ""
            },
            "colorscale": [
             [
              0,
              "#0d0887"
             ],
             [
              0.1111111111111111,
              "#46039f"
             ],
             [
              0.2222222222222222,
              "#7201a8"
             ],
             [
              0.3333333333333333,
              "#9c179e"
             ],
             [
              0.4444444444444444,
              "#bd3786"
             ],
             [
              0.5555555555555556,
              "#d8576b"
             ],
             [
              0.6666666666666666,
              "#ed7953"
             ],
             [
              0.7777777777777778,
              "#fb9f3a"
             ],
             [
              0.8888888888888888,
              "#fdca26"
             ],
             [
              1,
              "#f0f921"
             ]
            ],
            "type": "heatmap"
           }
          ],
          "heatmapgl": [
           {
            "colorbar": {
             "outlinewidth": 0,
             "ticks": ""
            },
            "colorscale": [
             [
              0,
              "#0d0887"
             ],
             [
              0.1111111111111111,
              "#46039f"
             ],
             [
              0.2222222222222222,
              "#7201a8"
             ],
             [
              0.3333333333333333,
              "#9c179e"
             ],
             [
              0.4444444444444444,
              "#bd3786"
             ],
             [
              0.5555555555555556,
              "#d8576b"
             ],
             [
              0.6666666666666666,
              "#ed7953"
             ],
             [
              0.7777777777777778,
              "#fb9f3a"
             ],
             [
              0.8888888888888888,
              "#fdca26"
             ],
             [
              1,
              "#f0f921"
             ]
            ],
            "type": "heatmapgl"
           }
          ],
          "histogram": [
           {
            "marker": {
             "pattern": {
              "fillmode": "overlay",
              "size": 10,
              "solidity": 0.2
             }
            },
            "type": "histogram"
           }
          ],
          "histogram2d": [
           {
            "colorbar": {
             "outlinewidth": 0,
             "ticks": ""
            },
            "colorscale": [
             [
              0,
              "#0d0887"
             ],
             [
              0.1111111111111111,
              "#46039f"
             ],
             [
              0.2222222222222222,
              "#7201a8"
             ],
             [
              0.3333333333333333,
              "#9c179e"
             ],
             [
              0.4444444444444444,
              "#bd3786"
             ],
             [
              0.5555555555555556,
              "#d8576b"
             ],
             [
              0.6666666666666666,
              "#ed7953"
             ],
             [
              0.7777777777777778,
              "#fb9f3a"
             ],
             [
              0.8888888888888888,
              "#fdca26"
             ],
             [
              1,
              "#f0f921"
             ]
            ],
            "type": "histogram2d"
           }
          ],
          "histogram2dcontour": [
           {
            "colorbar": {
             "outlinewidth": 0,
             "ticks": ""
            },
            "colorscale": [
             [
              0,
              "#0d0887"
             ],
             [
              0.1111111111111111,
              "#46039f"
             ],
             [
              0.2222222222222222,
              "#7201a8"
             ],
             [
              0.3333333333333333,
              "#9c179e"
             ],
             [
              0.4444444444444444,
              "#bd3786"
             ],
             [
              0.5555555555555556,
              "#d8576b"
             ],
             [
              0.6666666666666666,
              "#ed7953"
             ],
             [
              0.7777777777777778,
              "#fb9f3a"
             ],
             [
              0.8888888888888888,
              "#fdca26"
             ],
             [
              1,
              "#f0f921"
             ]
            ],
            "type": "histogram2dcontour"
           }
          ],
          "mesh3d": [
           {
            "colorbar": {
             "outlinewidth": 0,
             "ticks": ""
            },
            "type": "mesh3d"
           }
          ],
          "parcoords": [
           {
            "line": {
             "colorbar": {
              "outlinewidth": 0,
              "ticks": ""
             }
            },
            "type": "parcoords"
           }
          ],
          "pie": [
           {
            "automargin": true,
            "type": "pie"
           }
          ],
          "scatter": [
           {
            "fillpattern": {
             "fillmode": "overlay",
             "size": 10,
             "solidity": 0.2
            },
            "type": "scatter"
           }
          ],
          "scatter3d": [
           {
            "line": {
             "colorbar": {
              "outlinewidth": 0,
              "ticks": ""
             }
            },
            "marker": {
             "colorbar": {
              "outlinewidth": 0,
              "ticks": ""
             }
            },
            "type": "scatter3d"
           }
          ],
          "scattercarpet": [
           {
            "marker": {
             "colorbar": {
              "outlinewidth": 0,
              "ticks": ""
             }
            },
            "type": "scattercarpet"
           }
          ],
          "scattergeo": [
           {
            "marker": {
             "colorbar": {
              "outlinewidth": 0,
              "ticks": ""
             }
            },
            "type": "scattergeo"
           }
          ],
          "scattergl": [
           {
            "marker": {
             "colorbar": {
              "outlinewidth": 0,
              "ticks": ""
             }
            },
            "type": "scattergl"
           }
          ],
          "scattermapbox": [
           {
            "marker": {
             "colorbar": {
              "outlinewidth": 0,
              "ticks": ""
             }
            },
            "type": "scattermapbox"
           }
          ],
          "scatterpolar": [
           {
            "marker": {
             "colorbar": {
              "outlinewidth": 0,
              "ticks": ""
             }
            },
            "type": "scatterpolar"
           }
          ],
          "scatterpolargl": [
           {
            "marker": {
             "colorbar": {
              "outlinewidth": 0,
              "ticks": ""
             }
            },
            "type": "scatterpolargl"
           }
          ],
          "scatterternary": [
           {
            "marker": {
             "colorbar": {
              "outlinewidth": 0,
              "ticks": ""
             }
            },
            "type": "scatterternary"
           }
          ],
          "surface": [
           {
            "colorbar": {
             "outlinewidth": 0,
             "ticks": ""
            },
            "colorscale": [
             [
              0,
              "#0d0887"
             ],
             [
              0.1111111111111111,
              "#46039f"
             ],
             [
              0.2222222222222222,
              "#7201a8"
             ],
             [
              0.3333333333333333,
              "#9c179e"
             ],
             [
              0.4444444444444444,
              "#bd3786"
             ],
             [
              0.5555555555555556,
              "#d8576b"
             ],
             [
              0.6666666666666666,
              "#ed7953"
             ],
             [
              0.7777777777777778,
              "#fb9f3a"
             ],
             [
              0.8888888888888888,
              "#fdca26"
             ],
             [
              1,
              "#f0f921"
             ]
            ],
            "type": "surface"
           }
          ],
          "table": [
           {
            "cells": {
             "fill": {
              "color": "#EBF0F8"
             },
             "line": {
              "color": "white"
             }
            },
            "header": {
             "fill": {
              "color": "#C8D4E3"
             },
             "line": {
              "color": "white"
             }
            },
            "type": "table"
           }
          ]
         },
         "layout": {
          "annotationdefaults": {
           "arrowcolor": "#2a3f5f",
           "arrowhead": 0,
           "arrowwidth": 1
          },
          "autotypenumbers": "strict",
          "coloraxis": {
           "colorbar": {
            "outlinewidth": 0,
            "ticks": ""
           }
          },
          "colorscale": {
           "diverging": [
            [
             0,
             "#8e0152"
            ],
            [
             0.1,
             "#c51b7d"
            ],
            [
             0.2,
             "#de77ae"
            ],
            [
             0.3,
             "#f1b6da"
            ],
            [
             0.4,
             "#fde0ef"
            ],
            [
             0.5,
             "#f7f7f7"
            ],
            [
             0.6,
             "#e6f5d0"
            ],
            [
             0.7,
             "#b8e186"
            ],
            [
             0.8,
             "#7fbc41"
            ],
            [
             0.9,
             "#4d9221"
            ],
            [
             1,
             "#276419"
            ]
           ],
           "sequential": [
            [
             0,
             "#0d0887"
            ],
            [
             0.1111111111111111,
             "#46039f"
            ],
            [
             0.2222222222222222,
             "#7201a8"
            ],
            [
             0.3333333333333333,
             "#9c179e"
            ],
            [
             0.4444444444444444,
             "#bd3786"
            ],
            [
             0.5555555555555556,
             "#d8576b"
            ],
            [
             0.6666666666666666,
             "#ed7953"
            ],
            [
             0.7777777777777778,
             "#fb9f3a"
            ],
            [
             0.8888888888888888,
             "#fdca26"
            ],
            [
             1,
             "#f0f921"
            ]
           ],
           "sequentialminus": [
            [
             0,
             "#0d0887"
            ],
            [
             0.1111111111111111,
             "#46039f"
            ],
            [
             0.2222222222222222,
             "#7201a8"
            ],
            [
             0.3333333333333333,
             "#9c179e"
            ],
            [
             0.4444444444444444,
             "#bd3786"
            ],
            [
             0.5555555555555556,
             "#d8576b"
            ],
            [
             0.6666666666666666,
             "#ed7953"
            ],
            [
             0.7777777777777778,
             "#fb9f3a"
            ],
            [
             0.8888888888888888,
             "#fdca26"
            ],
            [
             1,
             "#f0f921"
            ]
           ]
          },
          "colorway": [
           "#636efa",
           "#EF553B",
           "#00cc96",
           "#ab63fa",
           "#FFA15A",
           "#19d3f3",
           "#FF6692",
           "#B6E880",
           "#FF97FF",
           "#FECB52"
          ],
          "font": {
           "color": "#2a3f5f"
          },
          "geo": {
           "bgcolor": "white",
           "lakecolor": "white",
           "landcolor": "#E5ECF6",
           "showlakes": true,
           "showland": true,
           "subunitcolor": "white"
          },
          "hoverlabel": {
           "align": "left"
          },
          "hovermode": "closest",
          "mapbox": {
           "style": "light"
          },
          "paper_bgcolor": "white",
          "plot_bgcolor": "#E5ECF6",
          "polar": {
           "angularaxis": {
            "gridcolor": "white",
            "linecolor": "white",
            "ticks": ""
           },
           "bgcolor": "#E5ECF6",
           "radialaxis": {
            "gridcolor": "white",
            "linecolor": "white",
            "ticks": ""
           }
          },
          "scene": {
           "xaxis": {
            "backgroundcolor": "#E5ECF6",
            "gridcolor": "white",
            "gridwidth": 2,
            "linecolor": "white",
            "showbackground": true,
            "ticks": "",
            "zerolinecolor": "white"
           },
           "yaxis": {
            "backgroundcolor": "#E5ECF6",
            "gridcolor": "white",
            "gridwidth": 2,
            "linecolor": "white",
            "showbackground": true,
            "ticks": "",
            "zerolinecolor": "white"
           },
           "zaxis": {
            "backgroundcolor": "#E5ECF6",
            "gridcolor": "white",
            "gridwidth": 2,
            "linecolor": "white",
            "showbackground": true,
            "ticks": "",
            "zerolinecolor": "white"
           }
          },
          "shapedefaults": {
           "line": {
            "color": "#2a3f5f"
           }
          },
          "ternary": {
           "aaxis": {
            "gridcolor": "white",
            "linecolor": "white",
            "ticks": ""
           },
           "baxis": {
            "gridcolor": "white",
            "linecolor": "white",
            "ticks": ""
           },
           "bgcolor": "#E5ECF6",
           "caxis": {
            "gridcolor": "white",
            "linecolor": "white",
            "ticks": ""
           }
          },
          "title": {
           "x": 0.05
          },
          "xaxis": {
           "automargin": true,
           "gridcolor": "white",
           "linecolor": "white",
           "ticks": "",
           "title": {
            "standoff": 15
           },
           "zerolinecolor": "white",
           "zerolinewidth": 2
          },
          "yaxis": {
           "automargin": true,
           "gridcolor": "white",
           "linecolor": "white",
           "ticks": "",
           "title": {
            "standoff": 15
           },
           "zerolinecolor": "white",
           "zerolinewidth": 2
          }
         }
        }
       }
      }
     },
     "metadata": {},
     "output_type": "display_data"
    }
   ],
   "source": [
    "fig = px.line_polar(r=Top5Probabilities, theta=Top5Topics, line_close=True)\n",
    "fig.show()\n"
   ]
  }
 ],
 "metadata": {
  "kernelspec": {
   "display_name": "Python 3",
   "language": "python",
   "name": "python3"
  },
  "language_info": {
   "codemirror_mode": {
    "name": "ipython",
    "version": 3
   },
   "file_extension": ".py",
   "mimetype": "text/x-python",
   "name": "python",
   "nbconvert_exporter": "python",
   "pygments_lexer": "ipython3",
   "version": "3.10.6"
  },
  "vscode": {
   "interpreter": {
    "hash": "916dbcbb3f70747c44a77c7bcd40155683ae19c65e1c03b4aa3499c5328201f1"
   }
  }
 },
 "nbformat": 4,
 "nbformat_minor": 4
}
