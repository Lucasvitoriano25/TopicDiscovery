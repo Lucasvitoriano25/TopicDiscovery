{
 "cells": [
  {
   "cell_type": "markdown",
   "metadata": {},
   "source": [
    "## Model inference\n",
    "\n",
    "In this notebook, we will load a previously trained model, explore the learned topics, and predict topics for a paper on arXiv."
   ]
  },
  {
   "cell_type": "code",
   "execution_count": 1,
   "metadata": {},
   "outputs": [],
   "source": [
    "# imports\n",
    "import sys\n",
    "sys.path.insert(0, \"../\")\n",
    "from utils import scrape_arxiv_abstract\n",
    "from model import TopicModel\n",
    "from dataset import ArXivDataset\n",
    "from gensim.models import LdaModel\n",
    "from pprint import pprint\n",
    "import PyPDF2\n",
    "import plotly.express as px\n",
    "import pandas as pd"
   ]
  },
  {
   "cell_type": "markdown",
   "metadata": {},
   "source": [
    "### Build topic model\n",
    "\n",
    "To build a `TopicModel` object, we need to pass in as arguments the dataset used to create the model (to process new instances) and the model itself (to predict topics for the new instances)."
   ]
  },
  {
   "cell_type": "code",
   "execution_count": 2,
   "metadata": {},
   "outputs": [],
   "source": [
    "# create topic model\n",
    "model_path = \"../models/lda_n38_p5_r929_c37.1\"\n",
    "dataset_path = \"../object/dataset.obj\"\n",
    "model = TopicModel(model_path, dataset_path)"
   ]
  },
  {
   "cell_type": "markdown",
   "metadata": {},
   "source": [
    "### Investigate topics\n",
    "\n",
    "Next, let us explore the different topics learned by the model so that we can assign understandable topic names to each cluster."
   ]
  },
  {
   "cell_type": "code",
   "execution_count": 3,
   "metadata": {},
   "outputs": [
    {
     "name": "stdout",
     "output_type": "stream",
     "text": [
      "[(0,\n",
      "  [('control', 0.024879357),\n",
      "   ('model', 0.016764874),\n",
      "   ('system', 0.016609652),\n",
      "   ('course', 0.014260766),\n",
      "   ('work', 0.011419694),\n",
      "   ('skill', 0.011288833),\n",
      "   ('law', 0.010282257),\n",
      "   ('lab', 0.0098598),\n",
      "   ('student', 0.008887271),\n",
      "   ('problem', 0.008220088)]),\n",
      " (1,\n",
      "  [('system', 0.039077986),\n",
      "   ('course', 0.02025457),\n",
      "   ('model', 0.0118238665),\n",
      "   ('student', 0.011125353),\n",
      "   ('project', 0.010907774),\n",
      "   ('design', 0.010358624),\n",
      "   ('campus', 0.010149597),\n",
      "   ('engineering', 0.007867761),\n",
      "   ('problem', 0.0074642575),\n",
      "   ('component', 0.007119093)]),\n",
      " (2,\n",
      "  [('course', 0.031964216),\n",
      "   ('information', 0.0133742),\n",
      "   ('communication', 0.011183536),\n",
      "   ('digital', 0.01115881),\n",
      "   ('software', 0.00955001),\n",
      "   ('student', 0.0093846135),\n",
      "   ('system', 0.009206128),\n",
      "   ('channel', 0.008912577),\n",
      "   ('application', 0.008868147),\n",
      "   ('exam', 0.0086734975)]),\n",
      " (3,\n",
      "  [('system', 0.032837804),\n",
      "   ('course', 0.020685153),\n",
      "   ('control', 0.014234064),\n",
      "   ('application', 0.010731142),\n",
      "   ('student', 0.010377006),\n",
      "   ('design', 0.008926828),\n",
      "   ('campus', 0.008352277),\n",
      "   ('modeling', 0.0069646914),\n",
      "   ('development', 0.0069643566),\n",
      "   ('android', 0.006814943)]),\n",
      " (4,\n",
      "  [('project', 0.006611249),\n",
      "   ('course', 0.0038626504),\n",
      "   ('thay', 0.0036512613),\n",
      "   ('resource', 0.0020972919),\n",
      "   ('student', 0.0020161935),\n",
      "   ('design', 0.0018653979),\n",
      "   ('work', 0.0016738975),\n",
      "   ('cluster', 0.0016442429),\n",
      "   ('economic', 0.0016226554),\n",
      "   ('campus', 0.0015434264)]),\n",
      " (5,\n",
      "  [('course', 0.035883762),\n",
      "   ('coupling', 0.01927628),\n",
      "   ('web', 0.013320563),\n",
      "   ('app', 0.010790503),\n",
      "   ('concept', 0.009630939),\n",
      "   ('mechanic', 0.008278559),\n",
      "   ('tutorial', 0.007817557),\n",
      "   ('multiphysic', 0.0073012644),\n",
      "   ('solid', 0.0069583682),\n",
      "   ('numerical', 0.0066736746)]),\n",
      " (6,\n",
      "  [('economic', 0.03477927),\n",
      "   ('growth', 0.027682524),\n",
      "   ('team', 0.018532177),\n",
      "   ('campus', 0.017716417),\n",
      "   ('management', 0.012275786),\n",
      "   ('company', 0.0105941715),\n",
      "   ('course', 0.009716519),\n",
      "   ('change', 0.008929572),\n",
      "   ('game', 0.008302471),\n",
      "   ('individual', 0.00822906)]),\n",
      " (7,\n",
      "  [('course', 0.022531608),\n",
      "   ('energy', 0.01745575),\n",
      "   ('innovation', 0.012815994),\n",
      "   ('system', 0.010541566),\n",
      "   ('microgrid', 0.010140197),\n",
      "   ('business', 0.009631927),\n",
      "   ('model', 0.00821539),\n",
      "   ('campus', 0.008065951),\n",
      "   ('combustion', 0.007826785),\n",
      "   ('production', 0.0073258504)]),\n",
      " (8,\n",
      "  [('course', 0.021945514),\n",
      "   ('problem', 0.010912482),\n",
      "   ('health', 0.010429479),\n",
      "   ('analysis', 0.010039535),\n",
      "   ('student', 0.0094899265),\n",
      "   ('control', 0.009377839),\n",
      "   ('campus', 0.008741442),\n",
      "   ('model', 0.008275782),\n",
      "   ('optimization', 0.0078093316),\n",
      "   ('energy', 0.007113687)]),\n",
      " (9,\n",
      "  [('course', 0.02557286),\n",
      "   ('campus', 0.009246574),\n",
      "   ('student', 0.00924179),\n",
      "   ('session', 0.0078533655),\n",
      "   ('organization', 0.007834066),\n",
      "   ('social', 0.006794915),\n",
      "   ('lecture', 0.0065710307),\n",
      "   ('situation', 0.00582785),\n",
      "   ('year', 0.005733832),\n",
      "   ('description', 0.005287875)]),\n",
      " (10,\n",
      "  [('system', 0.030417591),\n",
      "   ('design', 0.019154001),\n",
      "   ('course', 0.01538944),\n",
      "   ('different', 0.011550231),\n",
      "   ('performance', 0.009692275),\n",
      "   ('use', 0.0076869642),\n",
      "   ('management', 0.0074942885),\n",
      "   ('campus', 0.007293088),\n",
      "   ('control', 0.007122571),\n",
      "   ('part', 0.0071196505)]),\n",
      " (11,\n",
      "  [('course', 0.00200763),\n",
      "   ('analysis', 0.001748756),\n",
      "   ('student', 0.001555718),\n",
      "   ('project', 0.0015219768),\n",
      "   ('image', 0.0014287104),\n",
      "   ('problem', 0.0013306665),\n",
      "   ('system', 0.0013035566),\n",
      "   ('campus', 0.0012751129),\n",
      "   ('speaker', 0.0010148957),\n",
      "   ('control', 0.001009572)]),\n",
      " (12,\n",
      "  [('optimization', 0.021908963),\n",
      "   ('course', 0.016927216),\n",
      "   ('project', 0.014070872),\n",
      "   ('problem', 0.011461407),\n",
      "   ('industrial', 0.010842929),\n",
      "   ('engineering', 0.010705909),\n",
      "   ('energy', 0.0100618685),\n",
      "   ('system', 0.009273811),\n",
      "   ('chemical', 0.008880841),\n",
      "   ('production', 0.008446071)]),\n",
      " (13,\n",
      "  [('brain', 0.03668611),\n",
      "   ('chapter', 0.03093188),\n",
      "   ('neuron', 0.019074695),\n",
      "   ('activity', 0.018673828),\n",
      "   ('neuroscience', 0.016482389),\n",
      "   ('neuronal', 0.016394123),\n",
      "   ('population', 0.01312584),\n",
      "   ('model', 0.011487273),\n",
      "   ('interface', 0.008692158),\n",
      "   ('session', 0.007751986)]),\n",
      " (14,\n",
      "  [('part', 0.014767197),\n",
      "   ('project', 0.01187945),\n",
      "   ('system', 0.011016214),\n",
      "   ('team', 0.01020872),\n",
      "   ('defense', 0.01010144),\n",
      "   ('design', 0.009250865),\n",
      "   ('partner', 0.00886269),\n",
      "   ('optimization', 0.008463421),\n",
      "   ('material', 0.007779567),\n",
      "   ('topic', 0.0077786674)]),\n",
      " (15,\n",
      "  [('course', 0.020251358),\n",
      "   ('part', 0.018119955),\n",
      "   ('class_td', 0.015540148),\n",
      "   ('architecture', 0.01507579),\n",
      "   ('processor', 0.012298557),\n",
      "   ('processing', 0.012070483),\n",
      "   ('design', 0.011661673),\n",
      "   ('student', 0.011251061),\n",
      "   ('system', 0.010491498),\n",
      "   ('class', 0.010351519)]),\n",
      " (16,\n",
      "  [('control', 0.02895009),\n",
      "   ('design', 0.022187565),\n",
      "   ('satellite', 0.021766024),\n",
      "   ('flight', 0.02152865),\n",
      "   ('course', 0.017594198),\n",
      "   ('mechanic', 0.014404722),\n",
      "   ('aircraft', 0.013797349),\n",
      "   ('space', 0.01223823),\n",
      "   ('performance', 0.012085589),\n",
      "   ('requirement', 0.011164447)]),\n",
      " (17,\n",
      "  [('analysis', 0.027299957),\n",
      "   ('course', 0.017518712),\n",
      "   ('campus', 0.011719265),\n",
      "   ('signal', 0.011011939),\n",
      "   ('method', 0.010612869),\n",
      "   ('risk', 0.009382308),\n",
      "   ('tutorial', 0.008559223),\n",
      "   ('room', 0.008478406),\n",
      "   ('labs', 0.008201763),\n",
      "   ('cyber', 0.0077292314)]),\n",
      " (18,\n",
      "  [('course', 0.02511775),\n",
      "   ('session', 0.011560879),\n",
      "   ('student', 0.011502889),\n",
      "   ('model', 0.010787196),\n",
      "   ('problem', 0.010388022),\n",
      "   ('system', 0.008765183),\n",
      "   ('tutorial', 0.0064151054),\n",
      "   ('study', 0.006063321),\n",
      "   ('application', 0.005781893),\n",
      "   ('thermal', 0.005654776)]),\n",
      " (19,\n",
      "  [('spanish', 0.015495191),\n",
      "   ('course', 0.013506439),\n",
      "   ('skill', 0.013437895),\n",
      "   ('campus', 0.012156932),\n",
      "   ('language', 0.010539726),\n",
      "   ('level', 0.01003154),\n",
      "   ('culture', 0.009604352),\n",
      "   ('latin', 0.008723716),\n",
      "   ('student', 0.0077288123),\n",
      "   ('civilization', 0.006662379)]),\n",
      " (20,\n",
      "  [('optical', 0.018739345),\n",
      "   ('course', 0.0154480655),\n",
      "   ('physical', 0.015309485),\n",
      "   ('system', 0.013703839),\n",
      "   ('laser', 0.010320004),\n",
      "   ('network', 0.009617999),\n",
      "   ('photonic', 0.008992191),\n",
      "   ('class', 0.00884201),\n",
      "   ('analysis', 0.008413713),\n",
      "   ('campus', 0.007794159)]),\n",
      " (21,\n",
      "  [('track', 0.026785046),\n",
      "   ('numerical', 0.022134447),\n",
      "   ('analysis', 0.019235065),\n",
      "   ('theoretical', 0.018249394),\n",
      "   ('course', 0.016504284),\n",
      "   ('path', 0.011180485),\n",
      "   ('wave', 0.009233233),\n",
      "   ('acoustic_electromagnetic', 0.00866683),\n",
      "   ('boundary', 0.008604167),\n",
      "   ('problem', 0.008486914)]),\n",
      " (22,\n",
      "  [('system', 0.03226812),\n",
      "   ('course', 0.022963606),\n",
      "   ('control', 0.011828259),\n",
      "   ('campus', 0.008253637),\n",
      "   ('energy', 0.007564567),\n",
      "   ('student', 0.0075553954),\n",
      "   ('model', 0.007338065),\n",
      "   ('software', 0.007176298),\n",
      "   ('design', 0.0060227965),\n",
      "   ('description', 0.005794883)]),\n",
      " (23,\n",
      "  [('course', 0.0038298685),\n",
      "   ('system', 0.002114538),\n",
      "   ('student', 0.0020651948),\n",
      "   ('problem', 0.0016835524),\n",
      "   ('design', 0.0016249474),\n",
      "   ('engineering', 0.0015676451),\n",
      "   ('campus', 0.001533095),\n",
      "   ('datum', 0.0014856978),\n",
      "   ('analysis', 0.0013772135),\n",
      "   ('description', 0.001325354)]),\n",
      " (24,\n",
      "  [('game', 0.018080642),\n",
      "   ('asset', 0.01777572),\n",
      "   ('risk', 0.014994388),\n",
      "   ('insurance', 0.014806196),\n",
      "   ('serious_game', 0.0131048625),\n",
      "   ('calculation', 0.013028394),\n",
      "   ('contract', 0.0116592),\n",
      "   ('task', 0.010202857),\n",
      "   ('cost', 0.009347002),\n",
      "   ('process', 0.009332638)]),\n",
      " (25,\n",
      "  [('course', 0.021243338),\n",
      "   ('system', 0.016228557),\n",
      "   ('energy', 0.015926924),\n",
      "   ('optimization', 0.0141957505),\n",
      "   ('control', 0.014110843),\n",
      "   ('analysis', 0.013168251),\n",
      "   ('power', 0.012465164),\n",
      "   ('electrical', 0.012376075),\n",
      "   ('numerical', 0.012181151),\n",
      "   ('method', 0.01206875)]),\n",
      " (26,\n",
      "  [('course', 0.019786587),\n",
      "   ('path', 0.018995112),\n",
      "   ('association', 0.013700358),\n",
      "   ('specific', 0.011999113),\n",
      "   ('eax', 0.010955173),\n",
      "   ('management', 0.009660062),\n",
      "   ('associative', 0.008284901),\n",
      "   ('project', 0.00805368),\n",
      "   ('campus', 0.0071551614),\n",
      "   ('description', 0.0069820904)]),\n",
      " (27,\n",
      "  [('course', 0.029598324),\n",
      "   ('student', 0.023765905),\n",
      "   ('campus', 0.01782482),\n",
      "   ('skill', 0.015533266),\n",
      "   ('language', 0.010485517),\n",
      "   ('session', 0.01038763),\n",
      "   ('group', 0.010042468),\n",
      "   ('end', 0.008961731),\n",
      "   ('project', 0.007841727),\n",
      "   ('description', 0.007833063)]),\n",
      " (28,\n",
      "  [('image', 0.08424657),\n",
      "   ('compression', 0.017039357),\n",
      "   ('course', 0.014791147),\n",
      "   ('processing', 0.01244344),\n",
      "   ('signal', 0.012040587),\n",
      "   ('analysis', 0.011266435),\n",
      "   ('filter', 0.010090158),\n",
      "   ('wavelet', 0.008442401),\n",
      "   ('approach', 0.007549029),\n",
      "   ('reconstruction', 0.0074723796)]),\n",
      " (29,\n",
      "  [('course', 0.025154997),\n",
      "   ('economic', 0.017471813),\n",
      "   ('student', 0.010299345),\n",
      "   ('scientific', 0.007710117),\n",
      "   ('campus', 0.007550732),\n",
      "   ('project', 0.007417961),\n",
      "   ('problem', 0.0072916704),\n",
      "   ('system', 0.0069185924),\n",
      "   ('description', 0.0062242197),\n",
      "   ('financial', 0.006161378)]),\n",
      " (30,\n",
      "  [('design', 0.025322314),\n",
      "   ('project', 0.014767779),\n",
      "   ('course', 0.01330833),\n",
      "   ('student', 0.008940281),\n",
      "   ('model', 0.00892192),\n",
      "   ('campus', 0.007897097),\n",
      "   ('programming', 0.0077429237),\n",
      "   ('engineering', 0.0066466588),\n",
      "   ('process', 0.0061656963),\n",
      "   ('software', 0.0057025463)]),\n",
      " (31,\n",
      "  [('course', 0.024526803),\n",
      "   ('software', 0.01067035),\n",
      "   ('system', 0.010623647),\n",
      "   ('wireless_communication', 0.009538072),\n",
      "   ('student', 0.008398764),\n",
      "   ('de', 0.008316899),\n",
      "   ('model', 0.0075201737),\n",
      "   ('campus', 0.007405732),\n",
      "   ('design', 0.0073155533),\n",
      "   ('datum', 0.006714234)]),\n",
      " (32,\n",
      "  [('course', 0.028830666),\n",
      "   ('datum', 0.017415782),\n",
      "   ('machine', 0.014832225),\n",
      "   ('big_data', 0.011587123),\n",
      "   ('deep', 0.011584712),\n",
      "   ('algorithm', 0.010101675),\n",
      "   ('environment', 0.008632621),\n",
      "   ('map_reduce', 0.0078069493),\n",
      "   ('lab', 0.007314871),\n",
      "   ('learning', 0.007195954)]),\n",
      " (33,\n",
      "  [('course', 0.026791219),\n",
      "   ('student', 0.012116395),\n",
      "   ('campus', 0.011495006),\n",
      "   ('project', 0.0100230705),\n",
      "   ('design', 0.009118466),\n",
      "   ('description', 0.008897365),\n",
      "   ('system', 0.007897754),\n",
      "   ('work', 0.007392174),\n",
      "   ('communication', 0.0062864474),\n",
      "   ('digital', 0.0055845045)]),\n",
      " (34,\n",
      "  [('system', 0.012744819),\n",
      "   ('performance', 0.011963617),\n",
      "   ('maintenance', 0.011871139),\n",
      "   ('model', 0.010542598),\n",
      "   ('datum', 0.008974071),\n",
      "   ('predictive_maintenance', 0.008844442),\n",
      "   ('strategy', 0.008017105),\n",
      "   ('course', 0.0078096045),\n",
      "   ('architecture', 0.0070201512),\n",
      "   ('project', 0.006955495)]),\n",
      " (35,\n",
      "  [('optimization', 0.046340548),\n",
      "   ('parallel', 0.024125058),\n",
      "   ('simulation', 0.01829984),\n",
      "   ('method', 0.01797559),\n",
      "   ('code', 0.013633417),\n",
      "   ('high_performance', 0.011628741),\n",
      "   ('machine', 0.011447094),\n",
      "   ('study', 0.011103972),\n",
      "   ('time', 0.011090244),\n",
      "   ('algorithm', 0.010962755)]),\n",
      " (36,\n",
      "  [('course', 0.017458934),\n",
      "   ('system', 0.015198163),\n",
      "   ('energy', 0.014298817),\n",
      "   ('model', 0.011007395),\n",
      "   ('student', 0.007879134),\n",
      "   ('control', 0.007394083),\n",
      "   ('network', 0.0072159567),\n",
      "   ('description', 0.006274113),\n",
      "   ('engineering', 0.0061375415),\n",
      "   ('campus', 0.006088119)]),\n",
      " (37,\n",
      "  [('course', 0.0154500995),\n",
      "   ('control', 0.01242938),\n",
      "   ('design', 0.0110059185),\n",
      "   ('student', 0.010097457),\n",
      "   ('system', 0.008581363),\n",
      "   ('campus', 0.007610463),\n",
      "   ('numerical', 0.007248379),\n",
      "   ('energy', 0.00639212),\n",
      "   ('analysis', 0.0061204233),\n",
      "   ('project', 0.0056961123)])]\n"
     ]
    }
   ],
   "source": [
    "# print topics\n",
    "pprint(model.topics)"
   ]
  },
  {
   "cell_type": "code",
   "execution_count": 4,
   "metadata": {},
   "outputs": [],
   "source": [
    "topicName = ''\n",
    "TopicsNames =[]\n",
    "for i in model.topics:\n",
    "    for name,prob in i[1][:5]:\n",
    "        topicName = topicName + name + ' ' \n",
    "    TopicsNames.append(topicName)\n",
    "    topicName = ''"
   ]
  },
  {
   "cell_type": "code",
   "execution_count": 6,
   "metadata": {},
   "outputs": [
    {
     "name": "stdout",
     "output_type": "stream",
     "text": [
      "[(' control model system course work',\n",
      "  '0.025*\"control\" + 0.017*\"model\" + 0.017*\"system\" + 0.014*\"course\" + '\n",
      "  '0.011*\"work\" + 0.011*\"skill\" + 0.010*\"law\" + 0.010*\"lab\" + 0.009*\"student\" '\n",
      "  '+ 0.008*\"problem\"'),\n",
      " (' system course model student project',\n",
      "  '0.039*\"system\" + 0.020*\"course\" + 0.012*\"model\" + 0.011*\"student\" + '\n",
      "  '0.011*\"project\" + 0.010*\"design\" + 0.010*\"campus\" + 0.008*\"engineering\" + '\n",
      "  '0.007*\"problem\" + 0.007*\"component\"'),\n",
      " (' course information communication digital software',\n",
      "  '0.032*\"course\" + 0.013*\"information\" + 0.011*\"communication\" + '\n",
      "  '0.011*\"digital\" + 0.010*\"software\" + 0.009*\"student\" + 0.009*\"system\" + '\n",
      "  '0.009*\"channel\" + 0.009*\"application\" + 0.009*\"exam\"'),\n",
      " (' system course control application student',\n",
      "  '0.033*\"system\" + 0.021*\"course\" + 0.014*\"control\" + 0.011*\"application\" + '\n",
      "  '0.010*\"student\" + 0.009*\"design\" + 0.008*\"campus\" + 0.007*\"modeling\" + '\n",
      "  '0.007*\"development\" + 0.007*\"android\"'),\n",
      " (' project course thay resource student',\n",
      "  '0.007*\"project\" + 0.004*\"course\" + 0.004*\"thay\" + 0.002*\"resource\" + '\n",
      "  '0.002*\"student\" + 0.002*\"design\" + 0.002*\"work\" + 0.002*\"cluster\" + '\n",
      "  '0.002*\"economic\" + 0.002*\"campus\"'),\n",
      " (' course coupling web app concept',\n",
      "  '0.036*\"course\" + 0.019*\"coupling\" + 0.013*\"web\" + 0.011*\"app\" + '\n",
      "  '0.010*\"concept\" + 0.008*\"mechanic\" + 0.008*\"tutorial\" + 0.007*\"multiphysic\" '\n",
      "  '+ 0.007*\"solid\" + 0.007*\"numerical\"'),\n",
      " (' economic growth team campus management',\n",
      "  '0.035*\"economic\" + 0.028*\"growth\" + 0.019*\"team\" + 0.018*\"campus\" + '\n",
      "  '0.012*\"management\" + 0.011*\"company\" + 0.010*\"course\" + 0.009*\"change\" + '\n",
      "  '0.008*\"game\" + 0.008*\"individual\"'),\n",
      " (' course energy innovation system microgrid',\n",
      "  '0.023*\"course\" + 0.017*\"energy\" + 0.013*\"innovation\" + 0.011*\"system\" + '\n",
      "  '0.010*\"microgrid\" + 0.010*\"business\" + 0.008*\"model\" + 0.008*\"campus\" + '\n",
      "  '0.008*\"combustion\" + 0.007*\"production\"'),\n",
      " (' course problem health analysis student',\n",
      "  '0.022*\"course\" + 0.011*\"problem\" + 0.010*\"health\" + 0.010*\"analysis\" + '\n",
      "  '0.009*\"student\" + 0.009*\"control\" + 0.009*\"campus\" + 0.008*\"model\" + '\n",
      "  '0.008*\"optimization\" + 0.007*\"energy\"'),\n",
      " (' course campus student session organization',\n",
      "  '0.026*\"course\" + 0.009*\"campus\" + 0.009*\"student\" + 0.008*\"session\" + '\n",
      "  '0.008*\"organization\" + 0.007*\"social\" + 0.007*\"lecture\" + 0.006*\"situation\" '\n",
      "  '+ 0.006*\"year\" + 0.005*\"description\"'),\n",
      " (' system design course different performance',\n",
      "  '0.030*\"system\" + 0.019*\"design\" + 0.015*\"course\" + 0.012*\"different\" + '\n",
      "  '0.010*\"performance\" + 0.008*\"use\" + 0.007*\"management\" + 0.007*\"campus\" + '\n",
      "  '0.007*\"control\" + 0.007*\"part\"'),\n",
      " (' course analysis student project image',\n",
      "  '0.002*\"course\" + 0.002*\"analysis\" + 0.002*\"student\" + 0.002*\"project\" + '\n",
      "  '0.001*\"image\" + 0.001*\"problem\" + 0.001*\"system\" + 0.001*\"campus\" + '\n",
      "  '0.001*\"speaker\" + 0.001*\"control\"'),\n",
      " (' optimization course project problem industrial',\n",
      "  '0.022*\"optimization\" + 0.017*\"course\" + 0.014*\"project\" + 0.011*\"problem\" + '\n",
      "  '0.011*\"industrial\" + 0.011*\"engineering\" + 0.010*\"energy\" + 0.009*\"system\" '\n",
      "  '+ 0.009*\"chemical\" + 0.008*\"production\"'),\n",
      " (' brain chapter neuron activity neuroscience',\n",
      "  '0.037*\"brain\" + 0.031*\"chapter\" + 0.019*\"neuron\" + 0.019*\"activity\" + '\n",
      "  '0.016*\"neuroscience\" + 0.016*\"neuronal\" + 0.013*\"population\" + '\n",
      "  '0.011*\"model\" + 0.009*\"interface\" + 0.008*\"session\"'),\n",
      " (' part project system team defense',\n",
      "  '0.015*\"part\" + 0.012*\"project\" + 0.011*\"system\" + 0.010*\"team\" + '\n",
      "  '0.010*\"defense\" + 0.009*\"design\" + 0.009*\"partner\" + 0.008*\"optimization\" + '\n",
      "  '0.008*\"material\" + 0.008*\"topic\"'),\n",
      " (' course part class_td architecture processor',\n",
      "  '0.020*\"course\" + 0.018*\"part\" + 0.016*\"class_td\" + 0.015*\"architecture\" + '\n",
      "  '0.012*\"processor\" + 0.012*\"processing\" + 0.012*\"design\" + 0.011*\"student\" + '\n",
      "  '0.010*\"system\" + 0.010*\"class\"'),\n",
      " (' control design satellite flight course',\n",
      "  '0.029*\"control\" + 0.022*\"design\" + 0.022*\"satellite\" + 0.022*\"flight\" + '\n",
      "  '0.018*\"course\" + 0.014*\"mechanic\" + 0.014*\"aircraft\" + 0.012*\"space\" + '\n",
      "  '0.012*\"performance\" + 0.011*\"requirement\"'),\n",
      " (' analysis course campus signal method',\n",
      "  '0.027*\"analysis\" + 0.018*\"course\" + 0.012*\"campus\" + 0.011*\"signal\" + '\n",
      "  '0.011*\"method\" + 0.009*\"risk\" + 0.009*\"tutorial\" + 0.008*\"room\" + '\n",
      "  '0.008*\"labs\" + 0.008*\"cyber\"'),\n",
      " (' course session student model problem',\n",
      "  '0.025*\"course\" + 0.012*\"session\" + 0.012*\"student\" + 0.011*\"model\" + '\n",
      "  '0.010*\"problem\" + 0.009*\"system\" + 0.006*\"tutorial\" + 0.006*\"study\" + '\n",
      "  '0.006*\"application\" + 0.006*\"thermal\"'),\n",
      " (' spanish course skill campus language',\n",
      "  '0.015*\"spanish\" + 0.014*\"course\" + 0.013*\"skill\" + 0.012*\"campus\" + '\n",
      "  '0.011*\"language\" + 0.010*\"level\" + 0.010*\"culture\" + 0.009*\"latin\" + '\n",
      "  '0.008*\"student\" + 0.007*\"civilization\"'),\n",
      " (' optical course physical system laser',\n",
      "  '0.019*\"optical\" + 0.015*\"course\" + 0.015*\"physical\" + 0.014*\"system\" + '\n",
      "  '0.010*\"laser\" + 0.010*\"network\" + 0.009*\"photonic\" + 0.009*\"class\" + '\n",
      "  '0.008*\"analysis\" + 0.008*\"campus\"'),\n",
      " (' track numerical analysis theoretical course',\n",
      "  '0.027*\"track\" + 0.022*\"numerical\" + 0.019*\"analysis\" + 0.018*\"theoretical\" '\n",
      "  '+ 0.017*\"course\" + 0.011*\"path\" + 0.009*\"wave\" + '\n",
      "  '0.009*\"acoustic_electromagnetic\" + 0.009*\"boundary\" + 0.008*\"problem\"'),\n",
      " (' system course control campus energy',\n",
      "  '0.032*\"system\" + 0.023*\"course\" + 0.012*\"control\" + 0.008*\"campus\" + '\n",
      "  '0.008*\"energy\" + 0.008*\"student\" + 0.007*\"model\" + 0.007*\"software\" + '\n",
      "  '0.006*\"design\" + 0.006*\"description\"'),\n",
      " (' course system student problem design',\n",
      "  '0.004*\"course\" + 0.002*\"system\" + 0.002*\"student\" + 0.002*\"problem\" + '\n",
      "  '0.002*\"design\" + 0.002*\"engineering\" + 0.002*\"campus\" + 0.001*\"datum\" + '\n",
      "  '0.001*\"analysis\" + 0.001*\"description\"'),\n",
      " (' game asset risk insurance serious_game',\n",
      "  '0.018*\"game\" + 0.018*\"asset\" + 0.015*\"risk\" + 0.015*\"insurance\" + '\n",
      "  '0.013*\"serious_game\" + 0.013*\"calculation\" + 0.012*\"contract\" + '\n",
      "  '0.010*\"task\" + 0.009*\"cost\" + 0.009*\"process\"'),\n",
      " (' course system energy optimization control',\n",
      "  '0.021*\"course\" + 0.016*\"system\" + 0.016*\"energy\" + 0.014*\"optimization\" + '\n",
      "  '0.014*\"control\" + 0.013*\"analysis\" + 0.012*\"power\" + 0.012*\"electrical\" + '\n",
      "  '0.012*\"numerical\" + 0.012*\"method\"'),\n",
      " (' course path association specific eax',\n",
      "  '0.020*\"course\" + 0.019*\"path\" + 0.014*\"association\" + 0.012*\"specific\" + '\n",
      "  '0.011*\"eax\" + 0.010*\"management\" + 0.008*\"associative\" + 0.008*\"project\" + '\n",
      "  '0.007*\"campus\" + 0.007*\"description\"'),\n",
      " (' course student campus skill language',\n",
      "  '0.030*\"course\" + 0.024*\"student\" + 0.018*\"campus\" + 0.016*\"skill\" + '\n",
      "  '0.010*\"language\" + 0.010*\"session\" + 0.010*\"group\" + 0.009*\"end\" + '\n",
      "  '0.008*\"project\" + 0.008*\"description\"'),\n",
      " (' image compression course processing signal',\n",
      "  '0.084*\"image\" + 0.017*\"compression\" + 0.015*\"course\" + 0.012*\"processing\" + '\n",
      "  '0.012*\"signal\" + 0.011*\"analysis\" + 0.010*\"filter\" + 0.008*\"wavelet\" + '\n",
      "  '0.008*\"approach\" + 0.007*\"reconstruction\"'),\n",
      " (' course economic student scientific campus',\n",
      "  '0.025*\"course\" + 0.017*\"economic\" + 0.010*\"student\" + 0.008*\"scientific\" + '\n",
      "  '0.008*\"campus\" + 0.007*\"project\" + 0.007*\"problem\" + 0.007*\"system\" + '\n",
      "  '0.006*\"description\" + 0.006*\"financial\"'),\n",
      " (' design project course student model',\n",
      "  '0.025*\"design\" + 0.015*\"project\" + 0.013*\"course\" + 0.009*\"student\" + '\n",
      "  '0.009*\"model\" + 0.008*\"campus\" + 0.008*\"programming\" + 0.007*\"engineering\" '\n",
      "  '+ 0.006*\"process\" + 0.006*\"software\"'),\n",
      " (' course software system wireless_communication student',\n",
      "  '0.025*\"course\" + 0.011*\"software\" + 0.011*\"system\" + '\n",
      "  '0.010*\"wireless_communication\" + 0.008*\"student\" + 0.008*\"de\" + '\n",
      "  '0.008*\"model\" + 0.007*\"campus\" + 0.007*\"design\" + 0.007*\"datum\"'),\n",
      " (' course datum machine big_data deep',\n",
      "  '0.029*\"course\" + 0.017*\"datum\" + 0.015*\"machine\" + 0.012*\"big_data\" + '\n",
      "  '0.012*\"deep\" + 0.010*\"algorithm\" + 0.009*\"environment\" + 0.008*\"map_reduce\" '\n",
      "  '+ 0.007*\"lab\" + 0.007*\"learning\"'),\n",
      " (' course student campus project design',\n",
      "  '0.027*\"course\" + 0.012*\"student\" + 0.011*\"campus\" + 0.010*\"project\" + '\n",
      "  '0.009*\"design\" + 0.009*\"description\" + 0.008*\"system\" + 0.007*\"work\" + '\n",
      "  '0.006*\"communication\" + 0.006*\"digital\"'),\n",
      " (' system performance maintenance model datum',\n",
      "  '0.013*\"system\" + 0.012*\"performance\" + 0.012*\"maintenance\" + 0.011*\"model\" '\n",
      "  '+ 0.009*\"datum\" + 0.009*\"predictive_maintenance\" + 0.008*\"strategy\" + '\n",
      "  '0.008*\"course\" + 0.007*\"architecture\" + 0.007*\"project\"'),\n",
      " (' optimization parallel simulation method code',\n",
      "  '0.046*\"optimization\" + 0.024*\"parallel\" + 0.018*\"simulation\" + '\n",
      "  '0.018*\"method\" + 0.014*\"code\" + 0.012*\"high_performance\" + 0.011*\"machine\" '\n",
      "  '+ 0.011*\"study\" + 0.011*\"time\" + 0.011*\"algorithm\"'),\n",
      " (' course system energy model student',\n",
      "  '0.017*\"course\" + 0.015*\"system\" + 0.014*\"energy\" + 0.011*\"model\" + '\n",
      "  '0.008*\"student\" + 0.007*\"control\" + 0.007*\"network\" + 0.006*\"description\" + '\n",
      "  '0.006*\"engineering\" + 0.006*\"campus\"'),\n",
      " (' course control design student system',\n",
      "  '0.015*\"course\" + 0.012*\"control\" + 0.011*\"design\" + 0.010*\"student\" + '\n",
      "  '0.009*\"system\" + 0.008*\"campus\" + 0.007*\"numerical\" + 0.006*\"energy\" + '\n",
      "  '0.006*\"analysis\" + 0.006*\"project\"')]\n"
     ]
    }
   ],
   "source": [
    "model.set_topic_names(TopicsNames)\n",
    "pprint(model.topics)"
   ]
  },
  {
   "cell_type": "markdown",
   "metadata": {},
   "source": [
    "We can see that there are some clusters that seem to refer to specific topics in machine learning. One of them is topic 7, which seems to direcly relate to sequential and time-series data. Another example is topic 10, which seems to be related to reinforcement learning.\n",
    "\n",
    "To make it easier to refer to these topic clusters, we will assign (tentative) names to each of them. Note that these names are subject to interpretation and are only assigned to help \"summarize\" each cluster."
   ]
  },
  {
   "cell_type": "markdown",
   "metadata": {},
   "source": [
    "### Predict topics for a paper\n",
    "\n",
    "Let us see how our model predicts a paper taken directly from arXiv. Using the `scrape_arxiv_abstract()` function, we can extract the title and the abstract of any paper on arXiv given its URL. Once scraped, this title and abstract can be passed into our topic model's `predict()` method.\n",
    "\n",
    "To illustrate, let us scrape the title and abstract from the seminal paper [\"Attention Is All You Need\" (2017)](https://arxiv.org/abs/1706.03762) and see what topics the model detects."
   ]
  },
  {
   "cell_type": "code",
   "execution_count": 7,
   "metadata": {},
   "outputs": [],
   "source": [
    "text = \"The physical systems generally rely on the fundamental concept of a feedback loop, allowing them to be controlled and giving them a behavior that is as insensitive as possible to environmental disturbances. The general objective of this course is to provide students with the concepts and skills enabling them to understand the structure and interactions within existing dynamic systems or along with their design. They will also be able to process information, design a control law to meet specifications, and analyze its performance and robustness. To achieve this, the students must first be able to define a model (or a set of models), highlighting the variables influencing the state of this system (inputs), the measures allowing access to this state, and variables to which the specifications relate (outputs), as well as the relationships between these variables. Then, in a second step, and from the analysis of the inputs that can be controlled (commands) or those that are undergone (disturbances), students will have to design a control law in order to ensure the expected performances. The last step in this course will concern the analysis of the robustness of the determined control law.\""
   ]
  },
  {
   "cell_type": "code",
   "execution_count": 8,
   "metadata": {},
   "outputs": [],
   "source": [
    "# get predictions\n",
    "predictions = model.predict(text)"
   ]
  },
  {
   "cell_type": "code",
   "execution_count": 9,
   "metadata": {},
   "outputs": [],
   "source": [
    "Top5Topics, Top5Probabilities = model.predictToChart(text)"
   ]
  },
  {
   "cell_type": "code",
   "execution_count": 10,
   "metadata": {},
   "outputs": [
    {
     "name": "stderr",
     "output_type": "stream",
     "text": [
      "/home/vitoriano/.local/lib/python3.10/site-packages/plotly/express/_core.py:271: FutureWarning: The frame.append method is deprecated and will be removed from pandas in a future version. Use pandas.concat instead.\n",
      "  trace_data = trace_data.append(trace_data.iloc[0])\n"
     ]
    },
    {
     "data": {
      "application/vnd.plotly.v1+json": {
       "config": {
        "plotlyServerURL": "https://plot.ly"
       },
       "data": [
        {
         "hovertemplate": "r=%{r}<br>theta=%{theta}<extra></extra>",
         "legendgroup": "",
         "line": {
          "color": "#636efa",
          "dash": "solid"
         },
         "marker": {
          "symbol": "circle"
         },
         "mode": "lines",
         "name": "",
         "r": [
          0.9858875870704651,
          0.00038141629192978144,
          0.00038141629192978144,
          0.00038141629192978144,
          0.00038141629192978144,
          0.9858875870704651
         ],
         "showlegend": false,
         "subplot": "polar",
         "theta": [
          " control model system course work",
          " system course model student project",
          " course information communication digital software",
          " system course control application student",
          " project course thay resource student",
          " control model system course work"
         ],
         "type": "scatterpolar"
        }
       ],
       "layout": {
        "legend": {
         "tracegroupgap": 0
        },
        "margin": {
         "t": 60
        },
        "polar": {
         "angularaxis": {
          "direction": "clockwise",
          "rotation": 90
         },
         "domain": {
          "x": [
           0,
           1
          ],
          "y": [
           0,
           1
          ]
         }
        },
        "template": {
         "data": {
          "bar": [
           {
            "error_x": {
             "color": "#2a3f5f"
            },
            "error_y": {
             "color": "#2a3f5f"
            },
            "marker": {
             "line": {
              "color": "#E5ECF6",
              "width": 0.5
             },
             "pattern": {
              "fillmode": "overlay",
              "size": 10,
              "solidity": 0.2
             }
            },
            "type": "bar"
           }
          ],
          "barpolar": [
           {
            "marker": {
             "line": {
              "color": "#E5ECF6",
              "width": 0.5
             },
             "pattern": {
              "fillmode": "overlay",
              "size": 10,
              "solidity": 0.2
             }
            },
            "type": "barpolar"
           }
          ],
          "carpet": [
           {
            "aaxis": {
             "endlinecolor": "#2a3f5f",
             "gridcolor": "white",
             "linecolor": "white",
             "minorgridcolor": "white",
             "startlinecolor": "#2a3f5f"
            },
            "baxis": {
             "endlinecolor": "#2a3f5f",
             "gridcolor": "white",
             "linecolor": "white",
             "minorgridcolor": "white",
             "startlinecolor": "#2a3f5f"
            },
            "type": "carpet"
           }
          ],
          "choropleth": [
           {
            "colorbar": {
             "outlinewidth": 0,
             "ticks": ""
            },
            "type": "choropleth"
           }
          ],
          "contour": [
           {
            "colorbar": {
             "outlinewidth": 0,
             "ticks": ""
            },
            "colorscale": [
             [
              0,
              "#0d0887"
             ],
             [
              0.1111111111111111,
              "#46039f"
             ],
             [
              0.2222222222222222,
              "#7201a8"
             ],
             [
              0.3333333333333333,
              "#9c179e"
             ],
             [
              0.4444444444444444,
              "#bd3786"
             ],
             [
              0.5555555555555556,
              "#d8576b"
             ],
             [
              0.6666666666666666,
              "#ed7953"
             ],
             [
              0.7777777777777778,
              "#fb9f3a"
             ],
             [
              0.8888888888888888,
              "#fdca26"
             ],
             [
              1,
              "#f0f921"
             ]
            ],
            "type": "contour"
           }
          ],
          "contourcarpet": [
           {
            "colorbar": {
             "outlinewidth": 0,
             "ticks": ""
            },
            "type": "contourcarpet"
           }
          ],
          "heatmap": [
           {
            "colorbar": {
             "outlinewidth": 0,
             "ticks": ""
            },
            "colorscale": [
             [
              0,
              "#0d0887"
             ],
             [
              0.1111111111111111,
              "#46039f"
             ],
             [
              0.2222222222222222,
              "#7201a8"
             ],
             [
              0.3333333333333333,
              "#9c179e"
             ],
             [
              0.4444444444444444,
              "#bd3786"
             ],
             [
              0.5555555555555556,
              "#d8576b"
             ],
             [
              0.6666666666666666,
              "#ed7953"
             ],
             [
              0.7777777777777778,
              "#fb9f3a"
             ],
             [
              0.8888888888888888,
              "#fdca26"
             ],
             [
              1,
              "#f0f921"
             ]
            ],
            "type": "heatmap"
           }
          ],
          "heatmapgl": [
           {
            "colorbar": {
             "outlinewidth": 0,
             "ticks": ""
            },
            "colorscale": [
             [
              0,
              "#0d0887"
             ],
             [
              0.1111111111111111,
              "#46039f"
             ],
             [
              0.2222222222222222,
              "#7201a8"
             ],
             [
              0.3333333333333333,
              "#9c179e"
             ],
             [
              0.4444444444444444,
              "#bd3786"
             ],
             [
              0.5555555555555556,
              "#d8576b"
             ],
             [
              0.6666666666666666,
              "#ed7953"
             ],
             [
              0.7777777777777778,
              "#fb9f3a"
             ],
             [
              0.8888888888888888,
              "#fdca26"
             ],
             [
              1,
              "#f0f921"
             ]
            ],
            "type": "heatmapgl"
           }
          ],
          "histogram": [
           {
            "marker": {
             "pattern": {
              "fillmode": "overlay",
              "size": 10,
              "solidity": 0.2
             }
            },
            "type": "histogram"
           }
          ],
          "histogram2d": [
           {
            "colorbar": {
             "outlinewidth": 0,
             "ticks": ""
            },
            "colorscale": [
             [
              0,
              "#0d0887"
             ],
             [
              0.1111111111111111,
              "#46039f"
             ],
             [
              0.2222222222222222,
              "#7201a8"
             ],
             [
              0.3333333333333333,
              "#9c179e"
             ],
             [
              0.4444444444444444,
              "#bd3786"
             ],
             [
              0.5555555555555556,
              "#d8576b"
             ],
             [
              0.6666666666666666,
              "#ed7953"
             ],
             [
              0.7777777777777778,
              "#fb9f3a"
             ],
             [
              0.8888888888888888,
              "#fdca26"
             ],
             [
              1,
              "#f0f921"
             ]
            ],
            "type": "histogram2d"
           }
          ],
          "histogram2dcontour": [
           {
            "colorbar": {
             "outlinewidth": 0,
             "ticks": ""
            },
            "colorscale": [
             [
              0,
              "#0d0887"
             ],
             [
              0.1111111111111111,
              "#46039f"
             ],
             [
              0.2222222222222222,
              "#7201a8"
             ],
             [
              0.3333333333333333,
              "#9c179e"
             ],
             [
              0.4444444444444444,
              "#bd3786"
             ],
             [
              0.5555555555555556,
              "#d8576b"
             ],
             [
              0.6666666666666666,
              "#ed7953"
             ],
             [
              0.7777777777777778,
              "#fb9f3a"
             ],
             [
              0.8888888888888888,
              "#fdca26"
             ],
             [
              1,
              "#f0f921"
             ]
            ],
            "type": "histogram2dcontour"
           }
          ],
          "mesh3d": [
           {
            "colorbar": {
             "outlinewidth": 0,
             "ticks": ""
            },
            "type": "mesh3d"
           }
          ],
          "parcoords": [
           {
            "line": {
             "colorbar": {
              "outlinewidth": 0,
              "ticks": ""
             }
            },
            "type": "parcoords"
           }
          ],
          "pie": [
           {
            "automargin": true,
            "type": "pie"
           }
          ],
          "scatter": [
           {
            "fillpattern": {
             "fillmode": "overlay",
             "size": 10,
             "solidity": 0.2
            },
            "type": "scatter"
           }
          ],
          "scatter3d": [
           {
            "line": {
             "colorbar": {
              "outlinewidth": 0,
              "ticks": ""
             }
            },
            "marker": {
             "colorbar": {
              "outlinewidth": 0,
              "ticks": ""
             }
            },
            "type": "scatter3d"
           }
          ],
          "scattercarpet": [
           {
            "marker": {
             "colorbar": {
              "outlinewidth": 0,
              "ticks": ""
             }
            },
            "type": "scattercarpet"
           }
          ],
          "scattergeo": [
           {
            "marker": {
             "colorbar": {
              "outlinewidth": 0,
              "ticks": ""
             }
            },
            "type": "scattergeo"
           }
          ],
          "scattergl": [
           {
            "marker": {
             "colorbar": {
              "outlinewidth": 0,
              "ticks": ""
             }
            },
            "type": "scattergl"
           }
          ],
          "scattermapbox": [
           {
            "marker": {
             "colorbar": {
              "outlinewidth": 0,
              "ticks": ""
             }
            },
            "type": "scattermapbox"
           }
          ],
          "scatterpolar": [
           {
            "marker": {
             "colorbar": {
              "outlinewidth": 0,
              "ticks": ""
             }
            },
            "type": "scatterpolar"
           }
          ],
          "scatterpolargl": [
           {
            "marker": {
             "colorbar": {
              "outlinewidth": 0,
              "ticks": ""
             }
            },
            "type": "scatterpolargl"
           }
          ],
          "scatterternary": [
           {
            "marker": {
             "colorbar": {
              "outlinewidth": 0,
              "ticks": ""
             }
            },
            "type": "scatterternary"
           }
          ],
          "surface": [
           {
            "colorbar": {
             "outlinewidth": 0,
             "ticks": ""
            },
            "colorscale": [
             [
              0,
              "#0d0887"
             ],
             [
              0.1111111111111111,
              "#46039f"
             ],
             [
              0.2222222222222222,
              "#7201a8"
             ],
             [
              0.3333333333333333,
              "#9c179e"
             ],
             [
              0.4444444444444444,
              "#bd3786"
             ],
             [
              0.5555555555555556,
              "#d8576b"
             ],
             [
              0.6666666666666666,
              "#ed7953"
             ],
             [
              0.7777777777777778,
              "#fb9f3a"
             ],
             [
              0.8888888888888888,
              "#fdca26"
             ],
             [
              1,
              "#f0f921"
             ]
            ],
            "type": "surface"
           }
          ],
          "table": [
           {
            "cells": {
             "fill": {
              "color": "#EBF0F8"
             },
             "line": {
              "color": "white"
             }
            },
            "header": {
             "fill": {
              "color": "#C8D4E3"
             },
             "line": {
              "color": "white"
             }
            },
            "type": "table"
           }
          ]
         },
         "layout": {
          "annotationdefaults": {
           "arrowcolor": "#2a3f5f",
           "arrowhead": 0,
           "arrowwidth": 1
          },
          "autotypenumbers": "strict",
          "coloraxis": {
           "colorbar": {
            "outlinewidth": 0,
            "ticks": ""
           }
          },
          "colorscale": {
           "diverging": [
            [
             0,
             "#8e0152"
            ],
            [
             0.1,
             "#c51b7d"
            ],
            [
             0.2,
             "#de77ae"
            ],
            [
             0.3,
             "#f1b6da"
            ],
            [
             0.4,
             "#fde0ef"
            ],
            [
             0.5,
             "#f7f7f7"
            ],
            [
             0.6,
             "#e6f5d0"
            ],
            [
             0.7,
             "#b8e186"
            ],
            [
             0.8,
             "#7fbc41"
            ],
            [
             0.9,
             "#4d9221"
            ],
            [
             1,
             "#276419"
            ]
           ],
           "sequential": [
            [
             0,
             "#0d0887"
            ],
            [
             0.1111111111111111,
             "#46039f"
            ],
            [
             0.2222222222222222,
             "#7201a8"
            ],
            [
             0.3333333333333333,
             "#9c179e"
            ],
            [
             0.4444444444444444,
             "#bd3786"
            ],
            [
             0.5555555555555556,
             "#d8576b"
            ],
            [
             0.6666666666666666,
             "#ed7953"
            ],
            [
             0.7777777777777778,
             "#fb9f3a"
            ],
            [
             0.8888888888888888,
             "#fdca26"
            ],
            [
             1,
             "#f0f921"
            ]
           ],
           "sequentialminus": [
            [
             0,
             "#0d0887"
            ],
            [
             0.1111111111111111,
             "#46039f"
            ],
            [
             0.2222222222222222,
             "#7201a8"
            ],
            [
             0.3333333333333333,
             "#9c179e"
            ],
            [
             0.4444444444444444,
             "#bd3786"
            ],
            [
             0.5555555555555556,
             "#d8576b"
            ],
            [
             0.6666666666666666,
             "#ed7953"
            ],
            [
             0.7777777777777778,
             "#fb9f3a"
            ],
            [
             0.8888888888888888,
             "#fdca26"
            ],
            [
             1,
             "#f0f921"
            ]
           ]
          },
          "colorway": [
           "#636efa",
           "#EF553B",
           "#00cc96",
           "#ab63fa",
           "#FFA15A",
           "#19d3f3",
           "#FF6692",
           "#B6E880",
           "#FF97FF",
           "#FECB52"
          ],
          "font": {
           "color": "#2a3f5f"
          },
          "geo": {
           "bgcolor": "white",
           "lakecolor": "white",
           "landcolor": "#E5ECF6",
           "showlakes": true,
           "showland": true,
           "subunitcolor": "white"
          },
          "hoverlabel": {
           "align": "left"
          },
          "hovermode": "closest",
          "mapbox": {
           "style": "light"
          },
          "paper_bgcolor": "white",
          "plot_bgcolor": "#E5ECF6",
          "polar": {
           "angularaxis": {
            "gridcolor": "white",
            "linecolor": "white",
            "ticks": ""
           },
           "bgcolor": "#E5ECF6",
           "radialaxis": {
            "gridcolor": "white",
            "linecolor": "white",
            "ticks": ""
           }
          },
          "scene": {
           "xaxis": {
            "backgroundcolor": "#E5ECF6",
            "gridcolor": "white",
            "gridwidth": 2,
            "linecolor": "white",
            "showbackground": true,
            "ticks": "",
            "zerolinecolor": "white"
           },
           "yaxis": {
            "backgroundcolor": "#E5ECF6",
            "gridcolor": "white",
            "gridwidth": 2,
            "linecolor": "white",
            "showbackground": true,
            "ticks": "",
            "zerolinecolor": "white"
           },
           "zaxis": {
            "backgroundcolor": "#E5ECF6",
            "gridcolor": "white",
            "gridwidth": 2,
            "linecolor": "white",
            "showbackground": true,
            "ticks": "",
            "zerolinecolor": "white"
           }
          },
          "shapedefaults": {
           "line": {
            "color": "#2a3f5f"
           }
          },
          "ternary": {
           "aaxis": {
            "gridcolor": "white",
            "linecolor": "white",
            "ticks": ""
           },
           "baxis": {
            "gridcolor": "white",
            "linecolor": "white",
            "ticks": ""
           },
           "bgcolor": "#E5ECF6",
           "caxis": {
            "gridcolor": "white",
            "linecolor": "white",
            "ticks": ""
           }
          },
          "title": {
           "x": 0.05
          },
          "xaxis": {
           "automargin": true,
           "gridcolor": "white",
           "linecolor": "white",
           "ticks": "",
           "title": {
            "standoff": 15
           },
           "zerolinecolor": "white",
           "zerolinewidth": 2
          },
          "yaxis": {
           "automargin": true,
           "gridcolor": "white",
           "linecolor": "white",
           "ticks": "",
           "title": {
            "standoff": 15
           },
           "zerolinecolor": "white",
           "zerolinewidth": 2
          }
         }
        }
       }
      }
     },
     "metadata": {},
     "output_type": "display_data"
    }
   ],
   "source": [
    "fig = px.line_polar(r=Top5Probabilities, theta=Top5Topics, line_close=True)\n",
    "fig.show()"
   ]
  },
  {
   "cell_type": "code",
   "execution_count": 11,
   "metadata": {},
   "outputs": [],
   "source": [
    "text2 = \"The goal of this training is to let you discover the different stages of an aircraft design process in both a theoretical and a practical perspective. You will be introduced to the typical methods used in an aircraft design office, and apply this knowledge by doing the preliminary design of your own aircraft. After completing this training course, you will have acquired knowledge and skills that will enable you to work out the main aircraft characteristics and layout in a very short time frame.\"\n"
   ]
  },
  {
   "cell_type": "code",
   "execution_count": 12,
   "metadata": {},
   "outputs": [],
   "source": [
    "Top5Topics, Top5Probabilities = model.predictToChart(text2)"
   ]
  },
  {
   "cell_type": "code",
   "execution_count": 13,
   "metadata": {},
   "outputs": [
    {
     "name": "stderr",
     "output_type": "stream",
     "text": [
      "/home/vitoriano/.local/lib/python3.10/site-packages/plotly/express/_core.py:271: FutureWarning:\n",
      "\n",
      "The frame.append method is deprecated and will be removed from pandas in a future version. Use pandas.concat instead.\n",
      "\n"
     ]
    },
    {
     "data": {
      "application/vnd.plotly.v1+json": {
       "config": {
        "plotlyServerURL": "https://plot.ly"
       },
       "data": [
        {
         "hovertemplate": "r=%{r}<br>theta=%{theta}<extra></extra>",
         "legendgroup": "",
         "line": {
          "color": "#636efa",
          "dash": "solid"
         },
         "marker": {
          "symbol": "circle"
         },
         "mode": "lines",
         "name": "",
         "r": [
          0.7708534002304077,
          0.19953653216362,
          0.0008225026540458202,
          0.0008225026540458202,
          0.0008225026540458202,
          0.7708534002304077
         ],
         "showlegend": false,
         "subplot": "polar",
         "theta": [
          " course control design student system",
          " control design satellite flight course",
          " control model system course work",
          " system course model student project",
          " course information communication digital software",
          " course control design student system"
         ],
         "type": "scatterpolar"
        }
       ],
       "layout": {
        "legend": {
         "tracegroupgap": 0
        },
        "margin": {
         "t": 60
        },
        "polar": {
         "angularaxis": {
          "direction": "clockwise",
          "rotation": 90
         },
         "domain": {
          "x": [
           0,
           1
          ],
          "y": [
           0,
           1
          ]
         }
        },
        "template": {
         "data": {
          "bar": [
           {
            "error_x": {
             "color": "#2a3f5f"
            },
            "error_y": {
             "color": "#2a3f5f"
            },
            "marker": {
             "line": {
              "color": "#E5ECF6",
              "width": 0.5
             },
             "pattern": {
              "fillmode": "overlay",
              "size": 10,
              "solidity": 0.2
             }
            },
            "type": "bar"
           }
          ],
          "barpolar": [
           {
            "marker": {
             "line": {
              "color": "#E5ECF6",
              "width": 0.5
             },
             "pattern": {
              "fillmode": "overlay",
              "size": 10,
              "solidity": 0.2
             }
            },
            "type": "barpolar"
           }
          ],
          "carpet": [
           {
            "aaxis": {
             "endlinecolor": "#2a3f5f",
             "gridcolor": "white",
             "linecolor": "white",
             "minorgridcolor": "white",
             "startlinecolor": "#2a3f5f"
            },
            "baxis": {
             "endlinecolor": "#2a3f5f",
             "gridcolor": "white",
             "linecolor": "white",
             "minorgridcolor": "white",
             "startlinecolor": "#2a3f5f"
            },
            "type": "carpet"
           }
          ],
          "choropleth": [
           {
            "colorbar": {
             "outlinewidth": 0,
             "ticks": ""
            },
            "type": "choropleth"
           }
          ],
          "contour": [
           {
            "colorbar": {
             "outlinewidth": 0,
             "ticks": ""
            },
            "colorscale": [
             [
              0,
              "#0d0887"
             ],
             [
              0.1111111111111111,
              "#46039f"
             ],
             [
              0.2222222222222222,
              "#7201a8"
             ],
             [
              0.3333333333333333,
              "#9c179e"
             ],
             [
              0.4444444444444444,
              "#bd3786"
             ],
             [
              0.5555555555555556,
              "#d8576b"
             ],
             [
              0.6666666666666666,
              "#ed7953"
             ],
             [
              0.7777777777777778,
              "#fb9f3a"
             ],
             [
              0.8888888888888888,
              "#fdca26"
             ],
             [
              1,
              "#f0f921"
             ]
            ],
            "type": "contour"
           }
          ],
          "contourcarpet": [
           {
            "colorbar": {
             "outlinewidth": 0,
             "ticks": ""
            },
            "type": "contourcarpet"
           }
          ],
          "heatmap": [
           {
            "colorbar": {
             "outlinewidth": 0,
             "ticks": ""
            },
            "colorscale": [
             [
              0,
              "#0d0887"
             ],
             [
              0.1111111111111111,
              "#46039f"
             ],
             [
              0.2222222222222222,
              "#7201a8"
             ],
             [
              0.3333333333333333,
              "#9c179e"
             ],
             [
              0.4444444444444444,
              "#bd3786"
             ],
             [
              0.5555555555555556,
              "#d8576b"
             ],
             [
              0.6666666666666666,
              "#ed7953"
             ],
             [
              0.7777777777777778,
              "#fb9f3a"
             ],
             [
              0.8888888888888888,
              "#fdca26"
             ],
             [
              1,
              "#f0f921"
             ]
            ],
            "type": "heatmap"
           }
          ],
          "heatmapgl": [
           {
            "colorbar": {
             "outlinewidth": 0,
             "ticks": ""
            },
            "colorscale": [
             [
              0,
              "#0d0887"
             ],
             [
              0.1111111111111111,
              "#46039f"
             ],
             [
              0.2222222222222222,
              "#7201a8"
             ],
             [
              0.3333333333333333,
              "#9c179e"
             ],
             [
              0.4444444444444444,
              "#bd3786"
             ],
             [
              0.5555555555555556,
              "#d8576b"
             ],
             [
              0.6666666666666666,
              "#ed7953"
             ],
             [
              0.7777777777777778,
              "#fb9f3a"
             ],
             [
              0.8888888888888888,
              "#fdca26"
             ],
             [
              1,
              "#f0f921"
             ]
            ],
            "type": "heatmapgl"
           }
          ],
          "histogram": [
           {
            "marker": {
             "pattern": {
              "fillmode": "overlay",
              "size": 10,
              "solidity": 0.2
             }
            },
            "type": "histogram"
           }
          ],
          "histogram2d": [
           {
            "colorbar": {
             "outlinewidth": 0,
             "ticks": ""
            },
            "colorscale": [
             [
              0,
              "#0d0887"
             ],
             [
              0.1111111111111111,
              "#46039f"
             ],
             [
              0.2222222222222222,
              "#7201a8"
             ],
             [
              0.3333333333333333,
              "#9c179e"
             ],
             [
              0.4444444444444444,
              "#bd3786"
             ],
             [
              0.5555555555555556,
              "#d8576b"
             ],
             [
              0.6666666666666666,
              "#ed7953"
             ],
             [
              0.7777777777777778,
              "#fb9f3a"
             ],
             [
              0.8888888888888888,
              "#fdca26"
             ],
             [
              1,
              "#f0f921"
             ]
            ],
            "type": "histogram2d"
           }
          ],
          "histogram2dcontour": [
           {
            "colorbar": {
             "outlinewidth": 0,
             "ticks": ""
            },
            "colorscale": [
             [
              0,
              "#0d0887"
             ],
             [
              0.1111111111111111,
              "#46039f"
             ],
             [
              0.2222222222222222,
              "#7201a8"
             ],
             [
              0.3333333333333333,
              "#9c179e"
             ],
             [
              0.4444444444444444,
              "#bd3786"
             ],
             [
              0.5555555555555556,
              "#d8576b"
             ],
             [
              0.6666666666666666,
              "#ed7953"
             ],
             [
              0.7777777777777778,
              "#fb9f3a"
             ],
             [
              0.8888888888888888,
              "#fdca26"
             ],
             [
              1,
              "#f0f921"
             ]
            ],
            "type": "histogram2dcontour"
           }
          ],
          "mesh3d": [
           {
            "colorbar": {
             "outlinewidth": 0,
             "ticks": ""
            },
            "type": "mesh3d"
           }
          ],
          "parcoords": [
           {
            "line": {
             "colorbar": {
              "outlinewidth": 0,
              "ticks": ""
             }
            },
            "type": "parcoords"
           }
          ],
          "pie": [
           {
            "automargin": true,
            "type": "pie"
           }
          ],
          "scatter": [
           {
            "fillpattern": {
             "fillmode": "overlay",
             "size": 10,
             "solidity": 0.2
            },
            "type": "scatter"
           }
          ],
          "scatter3d": [
           {
            "line": {
             "colorbar": {
              "outlinewidth": 0,
              "ticks": ""
             }
            },
            "marker": {
             "colorbar": {
              "outlinewidth": 0,
              "ticks": ""
             }
            },
            "type": "scatter3d"
           }
          ],
          "scattercarpet": [
           {
            "marker": {
             "colorbar": {
              "outlinewidth": 0,
              "ticks": ""
             }
            },
            "type": "scattercarpet"
           }
          ],
          "scattergeo": [
           {
            "marker": {
             "colorbar": {
              "outlinewidth": 0,
              "ticks": ""
             }
            },
            "type": "scattergeo"
           }
          ],
          "scattergl": [
           {
            "marker": {
             "colorbar": {
              "outlinewidth": 0,
              "ticks": ""
             }
            },
            "type": "scattergl"
           }
          ],
          "scattermapbox": [
           {
            "marker": {
             "colorbar": {
              "outlinewidth": 0,
              "ticks": ""
             }
            },
            "type": "scattermapbox"
           }
          ],
          "scatterpolar": [
           {
            "marker": {
             "colorbar": {
              "outlinewidth": 0,
              "ticks": ""
             }
            },
            "type": "scatterpolar"
           }
          ],
          "scatterpolargl": [
           {
            "marker": {
             "colorbar": {
              "outlinewidth": 0,
              "ticks": ""
             }
            },
            "type": "scatterpolargl"
           }
          ],
          "scatterternary": [
           {
            "marker": {
             "colorbar": {
              "outlinewidth": 0,
              "ticks": ""
             }
            },
            "type": "scatterternary"
           }
          ],
          "surface": [
           {
            "colorbar": {
             "outlinewidth": 0,
             "ticks": ""
            },
            "colorscale": [
             [
              0,
              "#0d0887"
             ],
             [
              0.1111111111111111,
              "#46039f"
             ],
             [
              0.2222222222222222,
              "#7201a8"
             ],
             [
              0.3333333333333333,
              "#9c179e"
             ],
             [
              0.4444444444444444,
              "#bd3786"
             ],
             [
              0.5555555555555556,
              "#d8576b"
             ],
             [
              0.6666666666666666,
              "#ed7953"
             ],
             [
              0.7777777777777778,
              "#fb9f3a"
             ],
             [
              0.8888888888888888,
              "#fdca26"
             ],
             [
              1,
              "#f0f921"
             ]
            ],
            "type": "surface"
           }
          ],
          "table": [
           {
            "cells": {
             "fill": {
              "color": "#EBF0F8"
             },
             "line": {
              "color": "white"
             }
            },
            "header": {
             "fill": {
              "color": "#C8D4E3"
             },
             "line": {
              "color": "white"
             }
            },
            "type": "table"
           }
          ]
         },
         "layout": {
          "annotationdefaults": {
           "arrowcolor": "#2a3f5f",
           "arrowhead": 0,
           "arrowwidth": 1
          },
          "autotypenumbers": "strict",
          "coloraxis": {
           "colorbar": {
            "outlinewidth": 0,
            "ticks": ""
           }
          },
          "colorscale": {
           "diverging": [
            [
             0,
             "#8e0152"
            ],
            [
             0.1,
             "#c51b7d"
            ],
            [
             0.2,
             "#de77ae"
            ],
            [
             0.3,
             "#f1b6da"
            ],
            [
             0.4,
             "#fde0ef"
            ],
            [
             0.5,
             "#f7f7f7"
            ],
            [
             0.6,
             "#e6f5d0"
            ],
            [
             0.7,
             "#b8e186"
            ],
            [
             0.8,
             "#7fbc41"
            ],
            [
             0.9,
             "#4d9221"
            ],
            [
             1,
             "#276419"
            ]
           ],
           "sequential": [
            [
             0,
             "#0d0887"
            ],
            [
             0.1111111111111111,
             "#46039f"
            ],
            [
             0.2222222222222222,
             "#7201a8"
            ],
            [
             0.3333333333333333,
             "#9c179e"
            ],
            [
             0.4444444444444444,
             "#bd3786"
            ],
            [
             0.5555555555555556,
             "#d8576b"
            ],
            [
             0.6666666666666666,
             "#ed7953"
            ],
            [
             0.7777777777777778,
             "#fb9f3a"
            ],
            [
             0.8888888888888888,
             "#fdca26"
            ],
            [
             1,
             "#f0f921"
            ]
           ],
           "sequentialminus": [
            [
             0,
             "#0d0887"
            ],
            [
             0.1111111111111111,
             "#46039f"
            ],
            [
             0.2222222222222222,
             "#7201a8"
            ],
            [
             0.3333333333333333,
             "#9c179e"
            ],
            [
             0.4444444444444444,
             "#bd3786"
            ],
            [
             0.5555555555555556,
             "#d8576b"
            ],
            [
             0.6666666666666666,
             "#ed7953"
            ],
            [
             0.7777777777777778,
             "#fb9f3a"
            ],
            [
             0.8888888888888888,
             "#fdca26"
            ],
            [
             1,
             "#f0f921"
            ]
           ]
          },
          "colorway": [
           "#636efa",
           "#EF553B",
           "#00cc96",
           "#ab63fa",
           "#FFA15A",
           "#19d3f3",
           "#FF6692",
           "#B6E880",
           "#FF97FF",
           "#FECB52"
          ],
          "font": {
           "color": "#2a3f5f"
          },
          "geo": {
           "bgcolor": "white",
           "lakecolor": "white",
           "landcolor": "#E5ECF6",
           "showlakes": true,
           "showland": true,
           "subunitcolor": "white"
          },
          "hoverlabel": {
           "align": "left"
          },
          "hovermode": "closest",
          "mapbox": {
           "style": "light"
          },
          "paper_bgcolor": "white",
          "plot_bgcolor": "#E5ECF6",
          "polar": {
           "angularaxis": {
            "gridcolor": "white",
            "linecolor": "white",
            "ticks": ""
           },
           "bgcolor": "#E5ECF6",
           "radialaxis": {
            "gridcolor": "white",
            "linecolor": "white",
            "ticks": ""
           }
          },
          "scene": {
           "xaxis": {
            "backgroundcolor": "#E5ECF6",
            "gridcolor": "white",
            "gridwidth": 2,
            "linecolor": "white",
            "showbackground": true,
            "ticks": "",
            "zerolinecolor": "white"
           },
           "yaxis": {
            "backgroundcolor": "#E5ECF6",
            "gridcolor": "white",
            "gridwidth": 2,
            "linecolor": "white",
            "showbackground": true,
            "ticks": "",
            "zerolinecolor": "white"
           },
           "zaxis": {
            "backgroundcolor": "#E5ECF6",
            "gridcolor": "white",
            "gridwidth": 2,
            "linecolor": "white",
            "showbackground": true,
            "ticks": "",
            "zerolinecolor": "white"
           }
          },
          "shapedefaults": {
           "line": {
            "color": "#2a3f5f"
           }
          },
          "ternary": {
           "aaxis": {
            "gridcolor": "white",
            "linecolor": "white",
            "ticks": ""
           },
           "baxis": {
            "gridcolor": "white",
            "linecolor": "white",
            "ticks": ""
           },
           "bgcolor": "#E5ECF6",
           "caxis": {
            "gridcolor": "white",
            "linecolor": "white",
            "ticks": ""
           }
          },
          "title": {
           "x": 0.05
          },
          "xaxis": {
           "automargin": true,
           "gridcolor": "white",
           "linecolor": "white",
           "ticks": "",
           "title": {
            "standoff": 15
           },
           "zerolinecolor": "white",
           "zerolinewidth": 2
          },
          "yaxis": {
           "automargin": true,
           "gridcolor": "white",
           "linecolor": "white",
           "ticks": "",
           "title": {
            "standoff": 15
           },
           "zerolinecolor": "white",
           "zerolinewidth": 2
          }
         }
        }
       }
      }
     },
     "metadata": {},
     "output_type": "display_data"
    }
   ],
   "source": [
    "fig = px.line_polar(r=Top5Probabilities, theta=Top5Topics, line_close=True)\n",
    "fig.show()"
   ]
  }
 ],
 "metadata": {
  "kernelspec": {
   "display_name": "Python 3",
   "language": "python",
   "name": "python3"
  },
  "language_info": {
   "codemirror_mode": {
    "name": "ipython",
    "version": 3
   },
   "file_extension": ".py",
   "mimetype": "text/x-python",
   "name": "python",
   "nbconvert_exporter": "python",
   "pygments_lexer": "ipython3",
   "version": "3.10.6"
  },
  "vscode": {
   "interpreter": {
    "hash": "916dbcbb3f70747c44a77c7bcd40155683ae19c65e1c03b4aa3499c5328201f1"
   }
  }
 },
 "nbformat": 4,
 "nbformat_minor": 4
}
