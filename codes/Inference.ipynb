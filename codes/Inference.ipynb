{
 "cells": [
  {
   "attachments": {},
   "cell_type": "markdown",
   "metadata": {},
   "source": [
    "## Model inference\n",
    "\n",
    "In this notebook, we will load a previously trained model, explore the learned topics, and predict topics for all the courses on the catalog."
   ]
  },
  {
   "cell_type": "code",
   "execution_count": 1,
   "metadata": {},
   "outputs": [],
   "source": [
    "# imports\n",
    "import sys\n",
    "import os\n",
    "import re\n",
    "sys.path.insert(0, \"../\")\n",
    "from utils import scrape_arxiv_abstract\n",
    "from model import TopicModel\n",
    "from dataset import ArXivDataset\n",
    "from gensim.models import LdaModel\n",
    "from pprint import pprint\n",
    "from PyPDF2 import PdfReader\n",
    "import plotly.express as px\n",
    "import pandas as pd\n",
    "\n",
    "from langchain.prompts import PromptTemplate\n",
    "from langchain.llms import OpenAI\n",
    "OpenAI.api_key = os.getenv('OPENAI_API_KEY')\n",
    "llm = OpenAI(temperature=0.9)\n"
   ]
  },
  {
   "attachments": {},
   "cell_type": "markdown",
   "metadata": {},
   "source": [
    "### Build topic model\n",
    "\n"
   ]
  },
  {
   "cell_type": "code",
   "execution_count": 3,
   "metadata": {},
   "outputs": [],
   "source": [
    "# create topic model\n",
    "model_path = \"../models/lda_n20_p10_r929_c34.7\"\n",
    "dataset_path = \"../object/dataset.obj\"\n",
    "model = TopicModel(model_path, dataset_path)"
   ]
  },
  {
   "cell_type": "code",
   "execution_count": 4,
   "metadata": {},
   "outputs": [],
   "source": [
    "prompt = PromptTemplate(\n",
    "    input_variables=[\"values\"],\n",
    "    template=\"give me only the topic name knowing that that these are the words and the and the pertinance of each word on the topic: {values}\",\n",
    ")"
   ]
  },
  {
   "attachments": {},
   "cell_type": "markdown",
   "metadata": {},
   "source": [
    "### Investigate topics\n",
    "\n",
    "Next, let us explore the different topics learned by the model so that we can assign understandable topic names to each cluster.\n",
    "\n",
    "For this we will ask chatchapt to give the best name for each topic"
   ]
  },
  {
   "cell_type": "code",
   "execution_count": null,
   "metadata": {},
   "outputs": [],
   "source": [
    "def givetopicsNames(model):\n",
    "    topicName = ''\n",
    "    TopicsNames =[]\n",
    "    for i in model.topics:\n",
    "        for name,prob in i[1][:10]:\n",
    "            topicName = topicName + name + ' ' + str(prob) + ' '\n",
    "        text = prompt.format(values=topicName)\n",
    "        name = llm(text)\n",
    "        TopicsNames.append(name.strip())\n",
    "        topicName = ''\n",
    "    model.set_topic_names(TopicsNames)\n",
    "    pprint(model.topics)"
   ]
  },
  {
   "attachments": {},
   "cell_type": "markdown",
   "metadata": {},
   "source": [
    "#### New Topic Names:"
   ]
  },
  {
   "attachments": {},
   "cell_type": "markdown",
   "metadata": {},
   "source": [
    "If you want to name the topics uncomment the section bellow"
   ]
  },
  {
   "cell_type": "code",
   "execution_count": null,
   "metadata": {},
   "outputs": [],
   "source": [
    "#givetopicsNames(model)\n",
    "#pprint(model.topics)"
   ]
  },
  {
   "attachments": {},
   "cell_type": "markdown",
   "metadata": {},
   "source": [
    "### Predict topics for all the courses\n",
    "Lets pass all the courses trough the model"
   ]
  },
  {
   "cell_type": "code",
   "execution_count": null,
   "metadata": {},
   "outputs": [],
   "source": [
    "dir_path = \"../data/ByCourse/\"\n",
    "\n",
    "courses = {\"texts\" : [] , \"course\" : [], \"topics\" : []}\n",
    "\n",
    "for file in os.listdir(dir_path):\n",
    "    # check if current path is a file\n",
    "    if os.path.isfile(os.path.join(dir_path, file)):\n",
    "        text_of_file = ''\n",
    "        reader = PdfReader(dir_path + file)\n",
    "        for i in range(len(reader.pages)):\n",
    "            text_of_file = text_of_file + reader.pages[i].extract_text()\n",
    "    text_of_file = text_of_file.replace(u'\\xa0', u' ')\n",
    "    text_of_file = text_of_file.replace(u'\\n', u' ')\n",
    "    courses[\"texts\"].append(text_of_file)\n",
    "    courses[\"course\"].append(file.replace(\".pdf\",\"\"))"
   ]
  },
  {
   "cell_type": "code",
   "execution_count": null,
   "metadata": {},
   "outputs": [],
   "source": [
    "for text in courses[\"texts\"]:\n",
    "    match = re.findall(r\".Description.+Quarter number \", text)\n",
    "    if match:\n",
    "        prediction = model.predict(match[0])\n",
    "        courses[\"topics\"].append(prediction)\n"
   ]
  },
  {
   "cell_type": "code",
   "execution_count": null,
   "metadata": {},
   "outputs": [],
   "source": [
    "courses2 = courses\n",
    "courses2[\"topics\"] = []\n",
    "for text in courses2[\"texts\"]:\n",
    "    match = re.findall(r\".Description.+Quarter number \", text)\n",
    "    if match:\n",
    "        prediction = model.predictTopTopics(match[0],numberOfTopics=5)\n",
    "        courses2[\"topics\"].append(prediction)\n"
   ]
  },
  {
   "cell_type": "code",
   "execution_count": null,
   "metadata": {},
   "outputs": [],
   "source": [
    "name = courses2[\"course\"][1] + \".png\""
   ]
  },
  {
   "attachments": {},
   "cell_type": "markdown",
   "metadata": {},
   "source": [
    "Now, as we have a list of dictionaries with: course name, course text and topics for that course. We can get the radar chart for all the courses:"
   ]
  },
  {
   "cell_type": "code",
   "execution_count": null,
   "metadata": {},
   "outputs": [],
   "source": [
    "import warnings\n",
    "warnings.filterwarnings('ignore')\n",
    "\n",
    "for i in range(len(courses2[\"topics\"])):\n",
    "    fig = px.line_polar(r=courses2[\"topics\"][i][1], theta=courses2[\"topics\"][i][0], line_close=True)\n",
    "    \n",
    "    name = courses2[\"course\"][i] + \".png\"\n",
    "    fig.write_image(\"../data/plots/\" + name)"
   ]
  }
 ],
 "metadata": {
  "kernelspec": {
   "display_name": "Python 3",
   "language": "python",
   "name": "python3"
  },
  "language_info": {
   "codemirror_mode": {
    "name": "ipython",
    "version": 3
   },
   "file_extension": ".py",
   "mimetype": "text/x-python",
   "name": "python",
   "nbconvert_exporter": "python",
   "pygments_lexer": "ipython3",
   "version": "3.10.6"
  },
  "vscode": {
   "interpreter": {
    "hash": "916dbcbb3f70747c44a77c7bcd40155683ae19c65e1c03b4aa3499c5328201f1"
   }
  }
 },
 "nbformat": 4,
 "nbformat_minor": 4
}
