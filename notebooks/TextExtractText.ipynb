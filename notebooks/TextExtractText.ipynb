{
 "cells": [
  {
   "cell_type": "code",
   "execution_count": 2,
   "metadata": {},
   "outputs": [
    {
     "data": {
      "text/plain": [
       "' 20 temporal approach  c. Application examples  d. General theorems: intrinsic limitations of the ideal loop (needs to formalize, trade -off to be made)  2. State -space representation  a. Reminders  b. Pro perties (controllability, observability)  c. Linearized / nonlinear links - implementation of the control law on the nonlinear model  3. State feedback control law design  a. Control by pole placement in the monovariable case, reference tracking and accuracy  b. Linear Quadratic controller (LQ control)  c. Case of measurable disturbances (disturbance rejection)  d. LQ control with integral action  4. Estimated state feedback control  a. Observer by pole placement  b. Kalman filter (LQ control duality)  c. Linear Quadratic Gaussian controller (LQG) – Separation theorem  5. Performance and robustness analysis of a control law  a. Reminders: links with the transfer function  b. Equivalent controller for the LQ and LQG controllers.  c. Small gain theorem  d. Defin ition of multivariable stability margins.  e. Special case of monovariable stability margins  f. Special case of the LQ and LQG controllers. Loop Transfert Recovery (LTR)  g. Special case of margins for classical frequential controllers (e.g. phase -lead, PI a nd PID)  6. Industrial conference: open and current issues and problems of control in industry     Class components (lecture, labs, etc.)  15h lectures, 10.5h workclasses, 6h lab works, 1.5h industrial lectures.   All courses are given in French.  '"
      ]
     },
     "execution_count": 2,
     "metadata": {},
     "output_type": "execute_result"
    }
   ],
   "source": [
    "from PyPDF2 import PdfReader\n",
    "\n",
    "reader = PdfReader(\"CAT2023-2AEN-V1.pdf\")\n",
    "page = reader.pages[19]\n",
    "\n",
    "text = (page.extract_text())\n",
    "\n",
    "text.replace(\"\\n\",\"\")"
   ]
  },
  {
   "cell_type": "code",
   "execution_count": 3,
   "metadata": {},
   "outputs": [
    {
     "data": {
      "text/plain": [
       "[' 20 temporal approach  c',\n",
       " ' Application examples  d',\n",
       " ' General theorems: intrinsic limitations of the ideal loop (needs to formalize, trade -off to be made)  2',\n",
       " ' State -space representation  a',\n",
       " ' Reminders  b',\n",
       " ' Pro perties (controllability, observability)  c',\n",
       " ' Linearized / nonlinear links - implementation of the control law on the nonlinear model  3',\n",
       " ' State feedback control law design  a',\n",
       " ' Control by pole placement in the monovariable case, reference tracking and accuracy  b',\n",
       " ' Linear Quadratic controller (LQ control)  c',\n",
       " ' Case of measurable disturbances (disturbance rejection)  d',\n",
       " ' LQ control with integral action  4',\n",
       " ' Estimated state feedback control  a',\n",
       " ' Observer by pole placement  b',\n",
       " ' Kalman filter (LQ control duality)  c',\n",
       " ' Linear Quadratic Gaussian controller (LQG) – Separation theorem  5',\n",
       " ' Performance and robustness analysis of a control law  a',\n",
       " ' Reminders: links with the transfer function  b',\n",
       " ' Equivalent controller for the LQ and LQG controllers',\n",
       " '  c',\n",
       " ' Small gain theorem  d',\n",
       " ' Defin ition of multivariable stability margins',\n",
       " '  e',\n",
       " ' Special case of monovariable stability margins  f',\n",
       " ' Special case of the LQ and LQG controllers',\n",
       " ' Loop Transfert Recovery (LTR)  g',\n",
       " ' Special case of margins for classical frequential controllers (e',\n",
       " 'g',\n",
       " ' phase -lead, PI a nd PID)  6',\n",
       " ' Industrial conference: open and current issues and problems of control in industry     Class components (lecture, labs, etc',\n",
       " ')  15h lectures, 10',\n",
       " '5h workclasses, 6h lab works, 1',\n",
       " '5h industrial lectures',\n",
       " '   All courses are given in French',\n",
       " '  ']"
      ]
     },
     "execution_count": 3,
     "metadata": {},
     "output_type": "execute_result"
    }
   ],
   "source": [
    "text.replace(\"\\n\",\"\").split(\".\")\n"
   ]
  }
 ],
 "metadata": {
  "kernelspec": {
   "display_name": "Python 3",
   "language": "python",
   "name": "python3"
  },
  "language_info": {
   "codemirror_mode": {
    "name": "ipython",
    "version": 3
   },
   "file_extension": ".py",
   "mimetype": "text/x-python",
   "name": "python",
   "nbconvert_exporter": "python",
   "pygments_lexer": "ipython3",
   "version": "3.10.6"
  },
  "orig_nbformat": 4,
  "vscode": {
   "interpreter": {
    "hash": "916dbcbb3f70747c44a77c7bcd40155683ae19c65e1c03b4aa3499c5328201f1"
   }
  }
 },
 "nbformat": 4,
 "nbformat_minor": 2
}
